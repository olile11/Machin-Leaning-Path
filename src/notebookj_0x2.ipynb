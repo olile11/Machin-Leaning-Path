{
  "cells": [
    {
      "cell_type": "code",
      "execution_count": 27,
      "metadata": {},
      "outputs": [],
      "source": [
        "using LinearAlgebra, Random, Plots\n",
        "using MLJ, DataFrames, StatsPlots, StatsBase\n",
        "import MLDatasets: MNIST"
      ]
    },
    {
      "cell_type": "markdown",
      "metadata": {},
      "source": [
        "## Redução de dimensão com a interface MLJ"
      ]
    },
    {
      "cell_type": "code",
      "execution_count": 90,
      "metadata": {},
      "outputs": [
        {
          "data": {
            "text/plain": [
              "(Float32[0.0 0.0 … 0.0 0.0; 0.0 0.0 … 0.0 0.0; … ; 0.0 0.0 … 0.0 0.0; 0.0 0.0 … 0.0 0.0;;; 0.0 0.0 … 0.0 0.0; 0.0 0.0 … 0.0 0.0; … ; 0.0 0.0 … 0.0 0.0; 0.0 0.0 … 0.0 0.0;;; 0.0 0.0 … 0.0 0.0; 0.0 0.0 … 0.0 0.0; … ; 0.0 0.0 … 0.0 0.0; 0.0 0.0 … 0.0 0.0;;; … ;;; 0.0 0.0 … 0.0 0.0; 0.0 0.0 … 0.0 0.0; … ; 0.0 0.0 … 0.0 0.0; 0.0 0.0 … 0.0 0.0;;; 0.0 0.0 … 0.0 0.0; 0.0 0.0 … 0.0 0.0; … ; 0.0 0.0 … 0.0 0.0; 0.0 0.0 … 0.0 0.0;;; 0.0 0.0 … 0.0 0.0; 0.0 0.0 … 0.0 0.0; … ; 0.0 0.0 … 0.0 0.0; 0.0 0.0 … 0.0 0.0], [5, 0, 4, 1, 9, 2, 1, 3, 1, 4  …  9, 2, 9, 5, 1, 8, 3, 5, 6, 8])"
            ]
          },
          "metadata": {},
          "output_type": "display_data"
        }
      ],
      "source": [
        "#= X, y = @load_boston;\n",
        "df = hcat(DataFrame(X), DataFrame((target = y)))\n",
        "first(df, 5) =#\n",
        "data = MNIST(split=:train)\n",
        "\n",
        "X_train, y_train = data.features[:, :, begin:end], data.targets[begin:end]"
      ]
    },
    {
      "cell_type": "code",
      "execution_count": 91,
      "metadata": {},
      "outputs": [],
      "source": [
        "X_train = DataFrame(reshape(X_train, (60000, 28*28)), :auto);"
      ]
    },
    {
      "cell_type": "code",
      "execution_count": 36,
      "metadata": {},
      "outputs": [
        {
          "data": {
            "text/plain": [
              "MLJMultivariateStatsInterface.PCA"
            ]
          },
          "metadata": {},
          "output_type": "display_data"
        }
      ],
      "source": [
        "PCA = @load PCA pkg=MultivariateStats verbosity=0"
      ]
    },
    {
      "cell_type": "code",
      "execution_count": null,
      "metadata": {},
      "outputs": [],
      "source": [
        "pca_model = PCA(variance_ratio=0.90)\n",
        "pca_mach  = machine(pca_model, X_train) |> fit!\n",
        "comps = MLJ.transform(pca_mach, X_train);"
      ]
    },
    {
      "cell_type": "code",
      "execution_count": 97,
      "metadata": {},
      "outputs": [
        {
          "data": {
            "text/plain": [
              "(indim = 784,\n",
              " outdim = 608,\n",
              " tprincipalvar = 66.908745f0,\n",
              " tresidualvar = 7.41555f0,\n",
              " tvar = 74.324295f0,\n",
              " mean = Float32[0.12602699, 0.12569131, 0.13119909, 0.12692137, 0.12463001, 0.123107195, 0.12570797, 0.119031504, 0.1281153, 0.13907276  …  0.14423752, 0.17721751, 0.20852354, 0.1345151, 0.12570052, 0.13484451, 0.13127288, 0.13932724, 0.13840798, 0.112574704],\n",
              " principalvars = Float32[5.5759234, 5.553431, 2.3273978, 2.2633204, 1.319729, 1.2484323, 0.57425284, 0.56806904, 0.48601845, 0.4831988  …  0.048742168, 0.048688754, 0.048578184, 0.04855726, 0.048489124, 0.048397817, 0.048327483, 0.048254855, 0.04820752, 0.048079252],\n",
              " loadings = Float32[-0.114825845 -0.014100345 … 0.0006093019 0.01135643; -0.063445665 -0.098883264 … 0.007678188 -0.0036805433; … ; 0.013760392 0.12266405 … -0.004911653 0.0076318; -0.062463883 0.062009368 … -0.0046087224 0.005646068],)"
            ]
          },
          "metadata": {},
          "output_type": "display_data"
        }
      ],
      "source": [
        "report(pca_mach)"
      ]
    }
  ],
  "metadata": {
    "accelerator": "GPU",
    "colab": {
      "gpuType": "T4",
      "provenance": []
    },
    "kernelspec": {
      "display_name": "Julia 1.10.4",
      "language": "julia",
      "name": "julia-1.10"
    },
    "language_info": {
      "file_extension": ".jl",
      "mimetype": "application/julia",
      "name": "julia",
      "version": "1.10.4"
    }
  },
  "nbformat": 4,
  "nbformat_minor": 0
}
