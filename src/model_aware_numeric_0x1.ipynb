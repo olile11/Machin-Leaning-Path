{
 "cells": [
  {
   "metadata": {
    "ExecuteTime": {
     "end_time": "2024-10-28T19:06:54.894785Z",
     "start_time": "2024-10-28T19:06:54.882651Z"
    }
   },
   "cell_type": "code",
   "source": [
    "import keras\n",
    "import numpy as np\n",
    "import pandas as pd\n",
    "from huggingface_hub.keras_mixin import keras\n",
    "from keras import ops\n",
    "import tensorflow as tf\n",
    "from keras.src.layers import InputLayer\n",
    "from keras.src.ops import shape\n",
    "from prompt_toolkit.input import Input\n",
    "from sklearn.model_selection import train_test_split\n",
    "print(tf.config.list_physical_devices('GPU'))"
   ],
   "id": "9487baa4cb5dca8d",
   "outputs": [
    {
     "name": "stdout",
     "output_type": "stream",
     "text": [
      "[PhysicalDevice(name='/physical_device:GPU:0', device_type='GPU')]\n"
     ]
    }
   ],
   "execution_count": 2
  },
  {
   "metadata": {
    "ExecuteTime": {
     "end_time": "2024-10-28T19:43:02.025635Z",
     "start_time": "2024-10-28T19:43:01.984424Z"
    }
   },
   "cell_type": "code",
   "source": [
    "def generate_data(num_samples=1000, num_elements=5, value_range=(0, 100)):\n",
    "    data = []\n",
    "    labels = []\n",
    "    for _ in range(num_samples):\n",
    "        sample = np.random.uniform(\n",
    "            value_range[0], \n",
    "            value_range[1], \n",
    "            size=num_elements)\n",
    "        data.append(sample)\n",
    "        #print(np.argmax(sample))\n",
    "        labels.append(np.argmax(sample))\n",
    "    return np.array(data), np.array(labels)\n",
    "X, y = generate_data(num_samples=1000, num_elements=5)"
   ],
   "id": "ce84ba417d2ef9a2",
   "outputs": [],
   "execution_count": 50
  },
  {
   "metadata": {
    "ExecuteTime": {
     "end_time": "2024-10-28T19:43:06.473907Z",
     "start_time": "2024-10-28T19:43:06.470067Z"
    }
   },
   "cell_type": "code",
   "source": [
    "X_train, X_test, y_train, y_test = train_test_split(\n",
    "    X, y, test_size=0.2, random_state=42)\n",
    "\n",
    "y_train_categorical = keras.utils.to_categorical(y_train, num_classes=5)\n",
    "y_test_categorical = keras.utils.to_categorical(y_test, num_classes=5)"
   ],
   "id": "c7922f85a7b322f6",
   "outputs": [],
   "execution_count": 52
  },
  {
   "metadata": {
    "ExecuteTime": {
     "end_time": "2024-10-28T19:43:24.096813Z",
     "start_time": "2024-10-28T19:43:24.011317Z"
    }
   },
   "cell_type": "code",
   "source": [
    "model = keras.Sequential()\n",
    "model.add(keras.Input(shape=(5, 1)))\n",
    "model.add(keras.layers.LSTM(80))\n",
    "model.add(keras.layers.Dense(5, activation='softmax'))\n",
    "model.compile(\n",
    "    optimizer='adam',\n",
    "    loss='categorical_crossentropy',\n",
    "    metrics=['accuracy'])"
   ],
   "id": "c052faf9f8559882",
   "outputs": [],
   "execution_count": 54
  },
  {
   "metadata": {
    "ExecuteTime": {
     "end_time": "2024-10-28T19:43:37.340141Z",
     "start_time": "2024-10-28T19:43:26.273274Z"
    }
   },
   "cell_type": "code",
   "source": [
    "X_train_reshaped = X_train.reshape(\n",
    "    (X_train.shape[0], X_train.shape[1], 1))\n",
    "X_test_reshaped = X_test.reshape(\n",
    "    (X_test.shape[0], X_test.shape[1], 1))\n",
    "\n",
    "model.fit(\n",
    "    X_train_reshaped, \n",
    "    y_train_categorical, \n",
    "    epochs=20, \n",
    "    batch_size=32, \n",
    "    validation_data=(X_test_reshaped, y_test_categorical))"
   ],
   "id": "7049144d3482d913",
   "outputs": [
    {
     "name": "stdout",
     "output_type": "stream",
     "text": [
      "Epoch 1/20\n",
      "\u001B[1m25/25\u001B[0m \u001B[32m━━━━━━━━━━━━━━━━━━━━\u001B[0m\u001B[37m\u001B[0m \u001B[1m1s\u001B[0m 24ms/step - accuracy: 0.2147 - loss: 1.5691 - val_accuracy: 0.3400 - val_loss: 1.4812\n",
      "Epoch 2/20\n",
      "\u001B[1m25/25\u001B[0m \u001B[32m━━━━━━━━━━━━━━━━━━━━\u001B[0m\u001B[37m\u001B[0m \u001B[1m0s\u001B[0m 17ms/step - accuracy: 0.3804 - loss: 1.4459 - val_accuracy: 0.4400 - val_loss: 1.3904\n",
      "Epoch 3/20\n",
      "\u001B[1m25/25\u001B[0m \u001B[32m━━━━━━━━━━━━━━━━━━━━\u001B[0m\u001B[37m\u001B[0m \u001B[1m1s\u001B[0m 19ms/step - accuracy: 0.4521 - loss: 1.3518 - val_accuracy: 0.3900 - val_loss: 1.3470\n",
      "Epoch 4/20\n",
      "\u001B[1m25/25\u001B[0m \u001B[32m━━━━━━━━━━━━━━━━━━━━\u001B[0m\u001B[37m\u001B[0m \u001B[1m0s\u001B[0m 18ms/step - accuracy: 0.4644 - loss: 1.2623 - val_accuracy: 0.4950 - val_loss: 1.2155\n",
      "Epoch 5/20\n",
      "\u001B[1m25/25\u001B[0m \u001B[32m━━━━━━━━━━━━━━━━━━━━\u001B[0m\u001B[37m\u001B[0m \u001B[1m1s\u001B[0m 19ms/step - accuracy: 0.5111 - loss: 1.1651 - val_accuracy: 0.5850 - val_loss: 1.0822\n",
      "Epoch 6/20\n",
      "\u001B[1m25/25\u001B[0m \u001B[32m━━━━━━━━━━━━━━━━━━━━\u001B[0m\u001B[37m\u001B[0m \u001B[1m0s\u001B[0m 18ms/step - accuracy: 0.5966 - loss: 1.0284 - val_accuracy: 0.6500 - val_loss: 0.9352\n",
      "Epoch 7/20\n",
      "\u001B[1m25/25\u001B[0m \u001B[32m━━━━━━━━━━━━━━━━━━━━\u001B[0m\u001B[37m\u001B[0m \u001B[1m1s\u001B[0m 19ms/step - accuracy: 0.6922 - loss: 0.8787 - val_accuracy: 0.7250 - val_loss: 0.8215\n",
      "Epoch 8/20\n",
      "\u001B[1m25/25\u001B[0m \u001B[32m━━━━━━━━━━━━━━━━━━━━\u001B[0m\u001B[37m\u001B[0m \u001B[1m0s\u001B[0m 18ms/step - accuracy: 0.7510 - loss: 0.7397 - val_accuracy: 0.7950 - val_loss: 0.6555\n",
      "Epoch 9/20\n",
      "\u001B[1m25/25\u001B[0m \u001B[32m━━━━━━━━━━━━━━━━━━━━\u001B[0m\u001B[37m\u001B[0m \u001B[1m0s\u001B[0m 18ms/step - accuracy: 0.8113 - loss: 0.5936 - val_accuracy: 0.8300 - val_loss: 0.5466\n",
      "Epoch 10/20\n",
      "\u001B[1m25/25\u001B[0m \u001B[32m━━━━━━━━━━━━━━━━━━━━\u001B[0m\u001B[37m\u001B[0m \u001B[1m0s\u001B[0m 18ms/step - accuracy: 0.8535 - loss: 0.4985 - val_accuracy: 0.7900 - val_loss: 0.5091\n",
      "Epoch 11/20\n",
      "\u001B[1m25/25\u001B[0m \u001B[32m━━━━━━━━━━━━━━━━━━━━\u001B[0m\u001B[37m\u001B[0m \u001B[1m0s\u001B[0m 18ms/step - accuracy: 0.8588 - loss: 0.4522 - val_accuracy: 0.8700 - val_loss: 0.4244\n",
      "Epoch 12/20\n",
      "\u001B[1m25/25\u001B[0m \u001B[32m━━━━━━━━━━━━━━━━━━━━\u001B[0m\u001B[37m\u001B[0m \u001B[1m0s\u001B[0m 18ms/step - accuracy: 0.9055 - loss: 0.3589 - val_accuracy: 0.8850 - val_loss: 0.3846\n",
      "Epoch 13/20\n",
      "\u001B[1m25/25\u001B[0m \u001B[32m━━━━━━━━━━━━━━━━━━━━\u001B[0m\u001B[37m\u001B[0m \u001B[1m0s\u001B[0m 19ms/step - accuracy: 0.9199 - loss: 0.3173 - val_accuracy: 0.8600 - val_loss: 0.3796\n",
      "Epoch 14/20\n",
      "\u001B[1m25/25\u001B[0m \u001B[32m━━━━━━━━━━━━━━━━━━━━\u001B[0m\u001B[37m\u001B[0m \u001B[1m0s\u001B[0m 18ms/step - accuracy: 0.8987 - loss: 0.3153 - val_accuracy: 0.8600 - val_loss: 0.3657\n",
      "Epoch 15/20\n",
      "\u001B[1m25/25\u001B[0m \u001B[32m━━━━━━━━━━━━━━━━━━━━\u001B[0m\u001B[37m\u001B[0m \u001B[1m1s\u001B[0m 19ms/step - accuracy: 0.9197 - loss: 0.2845 - val_accuracy: 0.9000 - val_loss: 0.3527\n",
      "Epoch 16/20\n",
      "\u001B[1m25/25\u001B[0m \u001B[32m━━━━━━━━━━━━━━━━━━━━\u001B[0m\u001B[37m\u001B[0m \u001B[1m0s\u001B[0m 18ms/step - accuracy: 0.9134 - loss: 0.2850 - val_accuracy: 0.8850 - val_loss: 0.3054\n",
      "Epoch 17/20\n",
      "\u001B[1m25/25\u001B[0m \u001B[32m━━━━━━━━━━━━━━━━━━━━\u001B[0m\u001B[37m\u001B[0m \u001B[1m0s\u001B[0m 19ms/step - accuracy: 0.9310 - loss: 0.2529 - val_accuracy: 0.9150 - val_loss: 0.2907\n",
      "Epoch 18/20\n",
      "\u001B[1m25/25\u001B[0m \u001B[32m━━━━━━━━━━━━━━━━━━━━\u001B[0m\u001B[37m\u001B[0m \u001B[1m0s\u001B[0m 19ms/step - accuracy: 0.9256 - loss: 0.2444 - val_accuracy: 0.8850 - val_loss: 0.3284\n",
      "Epoch 19/20\n",
      "\u001B[1m25/25\u001B[0m \u001B[32m━━━━━━━━━━━━━━━━━━━━\u001B[0m\u001B[37m\u001B[0m \u001B[1m0s\u001B[0m 18ms/step - accuracy: 0.9099 - loss: 0.2516 - val_accuracy: 0.9100 - val_loss: 0.2799\n",
      "Epoch 20/20\n",
      "\u001B[1m25/25\u001B[0m \u001B[32m━━━━━━━━━━━━━━━━━━━━\u001B[0m\u001B[37m\u001B[0m \u001B[1m0s\u001B[0m 18ms/step - accuracy: 0.9127 - loss: 0.2584 - val_accuracy: 0.8850 - val_loss: 0.3193\n"
     ]
    },
    {
     "data": {
      "text/plain": [
       "<keras.src.callbacks.history.History at 0x75efc59e33e0>"
      ]
     },
     "execution_count": 55,
     "metadata": {},
     "output_type": "execute_result"
    }
   ],
   "execution_count": 55
  },
  {
   "metadata": {},
   "cell_type": "markdown",
   "source": "## Teste com float",
   "id": "7d0a44a6d22e72c1"
  },
  {
   "metadata": {
    "ExecuteTime": {
     "end_time": "2024-10-28T19:44:31.363938Z",
     "start_time": "2024-10-28T19:44:31.202761Z"
    }
   },
   "cell_type": "code",
   "source": [
    "loss, accuracy = model.evaluate(X_test_reshaped, y_test_categorical)\n",
    "print(f\"Test Accuracy: {accuracy * 100:.2f}%\")"
   ],
   "id": "e2a4682d6a83f190",
   "outputs": [
    {
     "name": "stdout",
     "output_type": "stream",
     "text": [
      "\u001B[1m7/7\u001B[0m \u001B[32m━━━━━━━━━━━━━━━━━━━━\u001B[0m\u001B[37m\u001B[0m \u001B[1m0s\u001B[0m 10ms/step - accuracy: 0.8770 - loss: 0.3173\n",
      "Test Accuracy: 88.50%\n"
     ]
    }
   ],
   "execution_count": 56
  },
  {
   "metadata": {},
   "cell_type": "markdown",
   "source": "## Teste com inteiros",
   "id": "79f794e964e9f4d6"
  },
  {
   "metadata": {
    "ExecuteTime": {
     "end_time": "2024-10-28T19:35:02.743137Z",
     "start_time": "2024-10-28T19:35:02.600604Z"
    }
   },
   "cell_type": "code",
   "source": [
    "loss, accuracy = model.evaluate(X_test_reshaped, y_test_categorical)\n",
    "print(f\"Test Accuracy: {accuracy * 100:.2f}%\")"
   ],
   "id": "35ffcac26ea17957",
   "outputs": [
    {
     "name": "stdout",
     "output_type": "stream",
     "text": [
      "\u001B[1m7/7\u001B[0m \u001B[32m━━━━━━━━━━━━━━━━━━━━\u001B[0m\u001B[37m\u001B[0m \u001B[1m0s\u001B[0m 11ms/step - accuracy: 0.9081 - loss: 0.3142\n",
      "Test Accuracy: 90.00%\n"
     ]
    }
   ],
   "execution_count": 45
  }
 ],
 "metadata": {
  "kernelspec": {
   "display_name": "Python 3",
   "language": "python",
   "name": "python3"
  },
  "language_info": {
   "codemirror_mode": {
    "name": "ipython",
    "version": 2
   },
   "file_extension": ".py",
   "mimetype": "text/x-python",
   "name": "python",
   "nbconvert_exporter": "python",
   "pygments_lexer": "ipython2",
   "version": "2.7.6"
  }
 },
 "nbformat": 4,
 "nbformat_minor": 5
}
