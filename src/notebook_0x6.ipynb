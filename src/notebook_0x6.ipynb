{
 "cells": [
  {
   "cell_type": "code",
   "metadata": {
    "id": "q-azUmIKi3ke",
    "executionInfo": {
     "status": "ok",
     "timestamp": 1711542014145,
     "user_tz": 180,
     "elapsed": 921,
     "user": {
      "displayName": "Ulilé Indeque",
      "userId": "15028308079254431910"
     }
    },
    "ExecuteTime": {
     "end_time": "2024-10-24T00:33:26.544297Z",
     "start_time": "2024-10-24T00:33:22.579083Z"
    }
   },
   "source": [
    "import numpy as np\n",
    "import pandas as pd\n",
    "import random\n",
    "import xgboost as xgb\n",
    "import matplotlib.pyplot as plt\n",
    "from xgbtune import tune_xgb_model\n",
    "from sklearn.model_selection import train_test_split\n",
    "%matplotlib inline"
   ],
   "outputs": [],
   "execution_count": 1
  },
  {
   "cell_type": "code",
   "source": [
    "train = pd.read_csv(\"../../data/train.csv\")\n",
    "test  = pd.read_csv(\"../../data/test.csv\")"
   ],
   "metadata": {
    "id": "0slbjoI9Rm3i",
    "ExecuteTime": {
     "end_time": "2024-10-24T01:00:19.435245Z",
     "start_time": "2024-10-24T01:00:04.680103Z"
    }
   },
   "outputs": [],
   "execution_count": 28
  },
  {
   "cell_type": "code",
   "metadata": {
    "id": "8UFR4oFozIy5",
    "executionInfo": {
     "status": "aborted",
     "timestamp": 1711542014147,
     "user_tz": 180,
     "elapsed": 16,
     "user": {
      "displayName": "Ulilé Indeque",
      "userId": "15028308079254431910"
     }
    },
    "ExecuteTime": {
     "end_time": "2024-10-23T23:49:49.268776Z",
     "start_time": "2024-10-23T23:49:49.259238Z"
    }
   },
   "source": [
    "train.head()"
   ],
   "outputs": [
    {
     "data": {
      "text/plain": [
       "   id  target  ps_ind_01  ps_ind_02_cat  ps_ind_03  ps_ind_04_cat  \\\n",
       "0   7       0          2              2          5              1   \n",
       "1   9       0          1              1          7              0   \n",
       "2  13       0          5              4          9              1   \n",
       "3  16       0          0              1          2              0   \n",
       "4  17       0          0              2          0              1   \n",
       "\n",
       "   ps_ind_05_cat  ps_ind_06_bin  ps_ind_07_bin  ps_ind_08_bin  ...  \\\n",
       "0              0              0              1              0  ...   \n",
       "1              0              0              0              1  ...   \n",
       "2              0              0              0              1  ...   \n",
       "3              0              1              0              0  ...   \n",
       "4              0              1              0              0  ...   \n",
       "\n",
       "   ps_calc_11  ps_calc_12  ps_calc_13  ps_calc_14  ps_calc_15_bin  \\\n",
       "0           9           1           5           8               0   \n",
       "1           3           1           1           9               0   \n",
       "2           4           2           7           7               0   \n",
       "3           2           2           4           9               0   \n",
       "4           3           1           1           3               0   \n",
       "\n",
       "   ps_calc_16_bin  ps_calc_17_bin  ps_calc_18_bin  ps_calc_19_bin  \\\n",
       "0               1               1               0               0   \n",
       "1               1               1               0               1   \n",
       "2               1               1               0               1   \n",
       "3               0               0               0               0   \n",
       "4               0               0               1               1   \n",
       "\n",
       "   ps_calc_20_bin  \n",
       "0               1  \n",
       "1               0  \n",
       "2               0  \n",
       "3               0  \n",
       "4               0  \n",
       "\n",
       "[5 rows x 59 columns]"
      ],
      "text/html": [
       "<div>\n",
       "<style scoped>\n",
       "    .dataframe tbody tr th:only-of-type {\n",
       "        vertical-align: middle;\n",
       "    }\n",
       "\n",
       "    .dataframe tbody tr th {\n",
       "        vertical-align: top;\n",
       "    }\n",
       "\n",
       "    .dataframe thead th {\n",
       "        text-align: right;\n",
       "    }\n",
       "</style>\n",
       "<table border=\"1\" class=\"dataframe\">\n",
       "  <thead>\n",
       "    <tr style=\"text-align: right;\">\n",
       "      <th></th>\n",
       "      <th>id</th>\n",
       "      <th>target</th>\n",
       "      <th>ps_ind_01</th>\n",
       "      <th>ps_ind_02_cat</th>\n",
       "      <th>ps_ind_03</th>\n",
       "      <th>ps_ind_04_cat</th>\n",
       "      <th>ps_ind_05_cat</th>\n",
       "      <th>ps_ind_06_bin</th>\n",
       "      <th>ps_ind_07_bin</th>\n",
       "      <th>ps_ind_08_bin</th>\n",
       "      <th>...</th>\n",
       "      <th>ps_calc_11</th>\n",
       "      <th>ps_calc_12</th>\n",
       "      <th>ps_calc_13</th>\n",
       "      <th>ps_calc_14</th>\n",
       "      <th>ps_calc_15_bin</th>\n",
       "      <th>ps_calc_16_bin</th>\n",
       "      <th>ps_calc_17_bin</th>\n",
       "      <th>ps_calc_18_bin</th>\n",
       "      <th>ps_calc_19_bin</th>\n",
       "      <th>ps_calc_20_bin</th>\n",
       "    </tr>\n",
       "  </thead>\n",
       "  <tbody>\n",
       "    <tr>\n",
       "      <th>0</th>\n",
       "      <td>7</td>\n",
       "      <td>0</td>\n",
       "      <td>2</td>\n",
       "      <td>2</td>\n",
       "      <td>5</td>\n",
       "      <td>1</td>\n",
       "      <td>0</td>\n",
       "      <td>0</td>\n",
       "      <td>1</td>\n",
       "      <td>0</td>\n",
       "      <td>...</td>\n",
       "      <td>9</td>\n",
       "      <td>1</td>\n",
       "      <td>5</td>\n",
       "      <td>8</td>\n",
       "      <td>0</td>\n",
       "      <td>1</td>\n",
       "      <td>1</td>\n",
       "      <td>0</td>\n",
       "      <td>0</td>\n",
       "      <td>1</td>\n",
       "    </tr>\n",
       "    <tr>\n",
       "      <th>1</th>\n",
       "      <td>9</td>\n",
       "      <td>0</td>\n",
       "      <td>1</td>\n",
       "      <td>1</td>\n",
       "      <td>7</td>\n",
       "      <td>0</td>\n",
       "      <td>0</td>\n",
       "      <td>0</td>\n",
       "      <td>0</td>\n",
       "      <td>1</td>\n",
       "      <td>...</td>\n",
       "      <td>3</td>\n",
       "      <td>1</td>\n",
       "      <td>1</td>\n",
       "      <td>9</td>\n",
       "      <td>0</td>\n",
       "      <td>1</td>\n",
       "      <td>1</td>\n",
       "      <td>0</td>\n",
       "      <td>1</td>\n",
       "      <td>0</td>\n",
       "    </tr>\n",
       "    <tr>\n",
       "      <th>2</th>\n",
       "      <td>13</td>\n",
       "      <td>0</td>\n",
       "      <td>5</td>\n",
       "      <td>4</td>\n",
       "      <td>9</td>\n",
       "      <td>1</td>\n",
       "      <td>0</td>\n",
       "      <td>0</td>\n",
       "      <td>0</td>\n",
       "      <td>1</td>\n",
       "      <td>...</td>\n",
       "      <td>4</td>\n",
       "      <td>2</td>\n",
       "      <td>7</td>\n",
       "      <td>7</td>\n",
       "      <td>0</td>\n",
       "      <td>1</td>\n",
       "      <td>1</td>\n",
       "      <td>0</td>\n",
       "      <td>1</td>\n",
       "      <td>0</td>\n",
       "    </tr>\n",
       "    <tr>\n",
       "      <th>3</th>\n",
       "      <td>16</td>\n",
       "      <td>0</td>\n",
       "      <td>0</td>\n",
       "      <td>1</td>\n",
       "      <td>2</td>\n",
       "      <td>0</td>\n",
       "      <td>0</td>\n",
       "      <td>1</td>\n",
       "      <td>0</td>\n",
       "      <td>0</td>\n",
       "      <td>...</td>\n",
       "      <td>2</td>\n",
       "      <td>2</td>\n",
       "      <td>4</td>\n",
       "      <td>9</td>\n",
       "      <td>0</td>\n",
       "      <td>0</td>\n",
       "      <td>0</td>\n",
       "      <td>0</td>\n",
       "      <td>0</td>\n",
       "      <td>0</td>\n",
       "    </tr>\n",
       "    <tr>\n",
       "      <th>4</th>\n",
       "      <td>17</td>\n",
       "      <td>0</td>\n",
       "      <td>0</td>\n",
       "      <td>2</td>\n",
       "      <td>0</td>\n",
       "      <td>1</td>\n",
       "      <td>0</td>\n",
       "      <td>1</td>\n",
       "      <td>0</td>\n",
       "      <td>0</td>\n",
       "      <td>...</td>\n",
       "      <td>3</td>\n",
       "      <td>1</td>\n",
       "      <td>1</td>\n",
       "      <td>3</td>\n",
       "      <td>0</td>\n",
       "      <td>0</td>\n",
       "      <td>0</td>\n",
       "      <td>1</td>\n",
       "      <td>1</td>\n",
       "      <td>0</td>\n",
       "    </tr>\n",
       "  </tbody>\n",
       "</table>\n",
       "<p>5 rows × 59 columns</p>\n",
       "</div>"
      ]
     },
     "execution_count": 3,
     "metadata": {},
     "output_type": "execute_result"
    }
   ],
   "execution_count": 3
  },
  {
   "cell_type": "code",
   "metadata": {
    "id": "Nt2uRAfQzIy6",
    "executionInfo": {
     "status": "aborted",
     "timestamp": 1711542014148,
     "user_tz": 180,
     "elapsed": 16,
     "user": {
      "displayName": "Ulilé Indeque",
      "userId": "15028308079254431910"
     }
    },
    "ExecuteTime": {
     "end_time": "2024-10-24T01:00:55.019155Z",
     "start_time": "2024-10-24T01:00:54.511317Z"
    }
   },
   "source": [
    "target = train[\"target\"]\n",
    "train = train.drop(['target', 'id'], axis=1)\n",
    "train.replace(-1, np.nan, inplace=True)\n",
    "test = test.drop(['id'], axis=1)"
   ],
   "outputs": [],
   "execution_count": 31
  },
  {
   "cell_type": "code",
   "metadata": {
    "id": "riUAtZkKzIy6",
    "executionInfo": {
     "status": "aborted",
     "timestamp": 1711542014149,
     "user_tz": 180,
     "elapsed": 17,
     "user": {
      "displayName": "Ulilé Indeque",
      "userId": "15028308079254431910"
     }
    },
    "ExecuteTime": {
     "end_time": "2024-10-23T23:49:49.589485Z",
     "start_time": "2024-10-23T23:49:49.568973Z"
    }
   },
   "source": [
    "display(np.unique(target))\n",
    "train.head()"
   ],
   "outputs": [
    {
     "data": {
      "text/plain": [
       "array([0, 1])"
      ]
     },
     "metadata": {},
     "output_type": "display_data"
    },
    {
     "data": {
      "text/plain": [
       "   ps_ind_01  ps_ind_02_cat  ps_ind_03  ps_ind_04_cat  ps_ind_05_cat  \\\n",
       "0          2            2.0          5            1.0            0.0   \n",
       "1          1            1.0          7            0.0            0.0   \n",
       "2          5            4.0          9            1.0            0.0   \n",
       "3          0            1.0          2            0.0            0.0   \n",
       "4          0            2.0          0            1.0            0.0   \n",
       "\n",
       "   ps_ind_06_bin  ps_ind_07_bin  ps_ind_08_bin  ps_ind_09_bin  ps_ind_10_bin  \\\n",
       "0              0              1              0              0              0   \n",
       "1              0              0              1              0              0   \n",
       "2              0              0              1              0              0   \n",
       "3              1              0              0              0              0   \n",
       "4              1              0              0              0              0   \n",
       "\n",
       "   ...  ps_calc_11  ps_calc_12  ps_calc_13  ps_calc_14  ps_calc_15_bin  \\\n",
       "0  ...           9           1           5           8               0   \n",
       "1  ...           3           1           1           9               0   \n",
       "2  ...           4           2           7           7               0   \n",
       "3  ...           2           2           4           9               0   \n",
       "4  ...           3           1           1           3               0   \n",
       "\n",
       "   ps_calc_16_bin  ps_calc_17_bin  ps_calc_18_bin  ps_calc_19_bin  \\\n",
       "0               1               1               0               0   \n",
       "1               1               1               0               1   \n",
       "2               1               1               0               1   \n",
       "3               0               0               0               0   \n",
       "4               0               0               1               1   \n",
       "\n",
       "   ps_calc_20_bin  \n",
       "0               1  \n",
       "1               0  \n",
       "2               0  \n",
       "3               0  \n",
       "4               0  \n",
       "\n",
       "[5 rows x 57 columns]"
      ],
      "text/html": [
       "<div>\n",
       "<style scoped>\n",
       "    .dataframe tbody tr th:only-of-type {\n",
       "        vertical-align: middle;\n",
       "    }\n",
       "\n",
       "    .dataframe tbody tr th {\n",
       "        vertical-align: top;\n",
       "    }\n",
       "\n",
       "    .dataframe thead th {\n",
       "        text-align: right;\n",
       "    }\n",
       "</style>\n",
       "<table border=\"1\" class=\"dataframe\">\n",
       "  <thead>\n",
       "    <tr style=\"text-align: right;\">\n",
       "      <th></th>\n",
       "      <th>ps_ind_01</th>\n",
       "      <th>ps_ind_02_cat</th>\n",
       "      <th>ps_ind_03</th>\n",
       "      <th>ps_ind_04_cat</th>\n",
       "      <th>ps_ind_05_cat</th>\n",
       "      <th>ps_ind_06_bin</th>\n",
       "      <th>ps_ind_07_bin</th>\n",
       "      <th>ps_ind_08_bin</th>\n",
       "      <th>ps_ind_09_bin</th>\n",
       "      <th>ps_ind_10_bin</th>\n",
       "      <th>...</th>\n",
       "      <th>ps_calc_11</th>\n",
       "      <th>ps_calc_12</th>\n",
       "      <th>ps_calc_13</th>\n",
       "      <th>ps_calc_14</th>\n",
       "      <th>ps_calc_15_bin</th>\n",
       "      <th>ps_calc_16_bin</th>\n",
       "      <th>ps_calc_17_bin</th>\n",
       "      <th>ps_calc_18_bin</th>\n",
       "      <th>ps_calc_19_bin</th>\n",
       "      <th>ps_calc_20_bin</th>\n",
       "    </tr>\n",
       "  </thead>\n",
       "  <tbody>\n",
       "    <tr>\n",
       "      <th>0</th>\n",
       "      <td>2</td>\n",
       "      <td>2.0</td>\n",
       "      <td>5</td>\n",
       "      <td>1.0</td>\n",
       "      <td>0.0</td>\n",
       "      <td>0</td>\n",
       "      <td>1</td>\n",
       "      <td>0</td>\n",
       "      <td>0</td>\n",
       "      <td>0</td>\n",
       "      <td>...</td>\n",
       "      <td>9</td>\n",
       "      <td>1</td>\n",
       "      <td>5</td>\n",
       "      <td>8</td>\n",
       "      <td>0</td>\n",
       "      <td>1</td>\n",
       "      <td>1</td>\n",
       "      <td>0</td>\n",
       "      <td>0</td>\n",
       "      <td>1</td>\n",
       "    </tr>\n",
       "    <tr>\n",
       "      <th>1</th>\n",
       "      <td>1</td>\n",
       "      <td>1.0</td>\n",
       "      <td>7</td>\n",
       "      <td>0.0</td>\n",
       "      <td>0.0</td>\n",
       "      <td>0</td>\n",
       "      <td>0</td>\n",
       "      <td>1</td>\n",
       "      <td>0</td>\n",
       "      <td>0</td>\n",
       "      <td>...</td>\n",
       "      <td>3</td>\n",
       "      <td>1</td>\n",
       "      <td>1</td>\n",
       "      <td>9</td>\n",
       "      <td>0</td>\n",
       "      <td>1</td>\n",
       "      <td>1</td>\n",
       "      <td>0</td>\n",
       "      <td>1</td>\n",
       "      <td>0</td>\n",
       "    </tr>\n",
       "    <tr>\n",
       "      <th>2</th>\n",
       "      <td>5</td>\n",
       "      <td>4.0</td>\n",
       "      <td>9</td>\n",
       "      <td>1.0</td>\n",
       "      <td>0.0</td>\n",
       "      <td>0</td>\n",
       "      <td>0</td>\n",
       "      <td>1</td>\n",
       "      <td>0</td>\n",
       "      <td>0</td>\n",
       "      <td>...</td>\n",
       "      <td>4</td>\n",
       "      <td>2</td>\n",
       "      <td>7</td>\n",
       "      <td>7</td>\n",
       "      <td>0</td>\n",
       "      <td>1</td>\n",
       "      <td>1</td>\n",
       "      <td>0</td>\n",
       "      <td>1</td>\n",
       "      <td>0</td>\n",
       "    </tr>\n",
       "    <tr>\n",
       "      <th>3</th>\n",
       "      <td>0</td>\n",
       "      <td>1.0</td>\n",
       "      <td>2</td>\n",
       "      <td>0.0</td>\n",
       "      <td>0.0</td>\n",
       "      <td>1</td>\n",
       "      <td>0</td>\n",
       "      <td>0</td>\n",
       "      <td>0</td>\n",
       "      <td>0</td>\n",
       "      <td>...</td>\n",
       "      <td>2</td>\n",
       "      <td>2</td>\n",
       "      <td>4</td>\n",
       "      <td>9</td>\n",
       "      <td>0</td>\n",
       "      <td>0</td>\n",
       "      <td>0</td>\n",
       "      <td>0</td>\n",
       "      <td>0</td>\n",
       "      <td>0</td>\n",
       "    </tr>\n",
       "    <tr>\n",
       "      <th>4</th>\n",
       "      <td>0</td>\n",
       "      <td>2.0</td>\n",
       "      <td>0</td>\n",
       "      <td>1.0</td>\n",
       "      <td>0.0</td>\n",
       "      <td>1</td>\n",
       "      <td>0</td>\n",
       "      <td>0</td>\n",
       "      <td>0</td>\n",
       "      <td>0</td>\n",
       "      <td>...</td>\n",
       "      <td>3</td>\n",
       "      <td>1</td>\n",
       "      <td>1</td>\n",
       "      <td>3</td>\n",
       "      <td>0</td>\n",
       "      <td>0</td>\n",
       "      <td>0</td>\n",
       "      <td>1</td>\n",
       "      <td>1</td>\n",
       "      <td>0</td>\n",
       "    </tr>\n",
       "  </tbody>\n",
       "</table>\n",
       "<p>5 rows × 57 columns</p>\n",
       "</div>"
      ]
     },
     "execution_count": 5,
     "metadata": {},
     "output_type": "execute_result"
    }
   ],
   "execution_count": 5
  },
  {
   "cell_type": "code",
   "metadata": {
    "id": "kcXNRdkyzIy6",
    "executionInfo": {
     "status": "aborted",
     "timestamp": 1711542014149,
     "user_tz": 180,
     "elapsed": 16,
     "user": {
      "displayName": "Ulilé Indeque",
      "userId": "15028308079254431910"
     }
    },
    "ExecuteTime": {
     "end_time": "2024-10-24T00:33:48.277211Z",
     "start_time": "2024-10-24T00:33:48.241398Z"
    }
   },
   "source": [
    "total = target.value_counts()\n",
    "print(f\"res 0: {total[0]}, res 1: {total[1]}\")\n",
    "print(f\"{total[0] / target.shape[0]}\")\n",
    "print(f\"{total[1] / target.shape[0]}\")"
   ],
   "outputs": [
    {
     "name": "stdout",
     "output_type": "stream",
     "text": [
      "res 0: 573518, res 1: 21694\n",
      "0.963552482140817\n",
      "0.036447517859182946\n"
     ]
    }
   ],
   "execution_count": 4
  },
  {
   "cell_type": "code",
   "metadata": {
    "id": "iZGnHkDezIy6",
    "executionInfo": {
     "status": "aborted",
     "timestamp": 1711542014150,
     "user_tz": 180,
     "elapsed": 16,
     "user": {
      "displayName": "Ulilé Indeque",
      "userId": "15028308079254431910"
     }
    },
    "ExecuteTime": {
     "end_time": "2024-10-24T01:01:03.065516Z",
     "start_time": "2024-10-24T01:01:03.052926Z"
    }
   },
   "source": [
    "bin_features = [col for col in train.columns if col.endswith('bin')]\n",
    "cat_features = [col for col in train.columns if col.endswith('cat')]\n",
    "con_features = [col for col in train.columns if not col.endswith(('cat', 'bin'))]"
   ],
   "outputs": [],
   "execution_count": 32
  },
  {
   "cell_type": "code",
   "metadata": {
    "id": "NgQrQ9v2zIy6",
    "executionInfo": {
     "status": "aborted",
     "timestamp": 1711542014150,
     "user_tz": 180,
     "elapsed": 15,
     "user": {
      "displayName": "Ulilé Indeque",
      "userId": "15028308079254431910"
     }
    },
    "ExecuteTime": {
     "end_time": "2024-10-24T01:01:05.134925Z",
     "start_time": "2024-10-24T01:01:04.611032Z"
    }
   },
   "source": [
    "display((np.isnan(train[bin_features])).sum() / train.shape[0])\n",
    "display((np.isnan(train[cat_features])).sum() / train.shape[0])\n",
    "display((np.isnan(train[con_features])).sum() / train.shape[0])"
   ],
   "outputs": [
    {
     "data": {
      "text/plain": [
       "ps_ind_06_bin     0.0\n",
       "ps_ind_07_bin     0.0\n",
       "ps_ind_08_bin     0.0\n",
       "ps_ind_09_bin     0.0\n",
       "ps_ind_10_bin     0.0\n",
       "ps_ind_11_bin     0.0\n",
       "ps_ind_12_bin     0.0\n",
       "ps_ind_13_bin     0.0\n",
       "ps_ind_16_bin     0.0\n",
       "ps_ind_17_bin     0.0\n",
       "ps_ind_18_bin     0.0\n",
       "ps_calc_15_bin    0.0\n",
       "ps_calc_16_bin    0.0\n",
       "ps_calc_17_bin    0.0\n",
       "ps_calc_18_bin    0.0\n",
       "ps_calc_19_bin    0.0\n",
       "ps_calc_20_bin    0.0\n",
       "dtype: float64"
      ]
     },
     "metadata": {},
     "output_type": "display_data"
    },
    {
     "data": {
      "text/plain": [
       "ps_ind_02_cat    0.000363\n",
       "ps_ind_04_cat    0.000139\n",
       "ps_ind_05_cat    0.009760\n",
       "ps_car_01_cat    0.000180\n",
       "ps_car_02_cat    0.000008\n",
       "ps_car_03_cat    0.690898\n",
       "ps_car_04_cat    0.000000\n",
       "ps_car_05_cat    0.447825\n",
       "ps_car_06_cat    0.000000\n",
       "ps_car_07_cat    0.019302\n",
       "ps_car_08_cat    0.000000\n",
       "ps_car_09_cat    0.000956\n",
       "ps_car_10_cat    0.000000\n",
       "ps_car_11_cat    0.000000\n",
       "dtype: float64"
      ]
     },
     "metadata": {},
     "output_type": "display_data"
    },
    {
     "data": {
      "text/plain": [
       "ps_ind_01     0.000000\n",
       "ps_ind_03     0.000000\n",
       "ps_ind_14     0.000000\n",
       "ps_ind_15     0.000000\n",
       "ps_reg_01     0.000000\n",
       "ps_reg_02     0.000000\n",
       "ps_reg_03     0.181065\n",
       "ps_car_11     0.000008\n",
       "ps_car_12     0.000002\n",
       "ps_car_13     0.000000\n",
       "ps_car_14     0.071605\n",
       "ps_car_15     0.000000\n",
       "ps_calc_01    0.000000\n",
       "ps_calc_02    0.000000\n",
       "ps_calc_03    0.000000\n",
       "ps_calc_04    0.000000\n",
       "ps_calc_05    0.000000\n",
       "ps_calc_06    0.000000\n",
       "ps_calc_07    0.000000\n",
       "ps_calc_08    0.000000\n",
       "ps_calc_09    0.000000\n",
       "ps_calc_10    0.000000\n",
       "ps_calc_11    0.000000\n",
       "ps_calc_12    0.000000\n",
       "ps_calc_13    0.000000\n",
       "ps_calc_14    0.000000\n",
       "dtype: float64"
      ]
     },
     "metadata": {},
     "output_type": "display_data"
    }
   ],
   "execution_count": 33
  },
  {
   "cell_type": "code",
   "metadata": {
    "id": "CrXriuonzIy7",
    "executionInfo": {
     "status": "aborted",
     "timestamp": 1711542014151,
     "user_tz": 180,
     "elapsed": 16,
     "user": {
      "displayName": "Ulilé Indeque",
      "userId": "15028308079254431910"
     }
    },
    "ExecuteTime": {
     "end_time": "2024-10-24T01:01:08.802388Z",
     "start_time": "2024-10-24T01:01:07.982604Z"
    }
   },
   "source": [
    "train.fillna(train.mean(), inplace=True)\n",
    "np.isnan(train).sum()"
   ],
   "outputs": [
    {
     "data": {
      "text/plain": [
       "ps_ind_01         0\n",
       "ps_ind_02_cat     0\n",
       "ps_ind_03         0\n",
       "ps_ind_04_cat     0\n",
       "ps_ind_05_cat     0\n",
       "ps_ind_06_bin     0\n",
       "ps_ind_07_bin     0\n",
       "ps_ind_08_bin     0\n",
       "ps_ind_09_bin     0\n",
       "ps_ind_10_bin     0\n",
       "ps_ind_11_bin     0\n",
       "ps_ind_12_bin     0\n",
       "ps_ind_13_bin     0\n",
       "ps_ind_14         0\n",
       "ps_ind_15         0\n",
       "ps_ind_16_bin     0\n",
       "ps_ind_17_bin     0\n",
       "ps_ind_18_bin     0\n",
       "ps_reg_01         0\n",
       "ps_reg_02         0\n",
       "ps_reg_03         0\n",
       "ps_car_01_cat     0\n",
       "ps_car_02_cat     0\n",
       "ps_car_03_cat     0\n",
       "ps_car_04_cat     0\n",
       "ps_car_05_cat     0\n",
       "ps_car_06_cat     0\n",
       "ps_car_07_cat     0\n",
       "ps_car_08_cat     0\n",
       "ps_car_09_cat     0\n",
       "ps_car_10_cat     0\n",
       "ps_car_11_cat     0\n",
       "ps_car_11         0\n",
       "ps_car_12         0\n",
       "ps_car_13         0\n",
       "ps_car_14         0\n",
       "ps_car_15         0\n",
       "ps_calc_01        0\n",
       "ps_calc_02        0\n",
       "ps_calc_03        0\n",
       "ps_calc_04        0\n",
       "ps_calc_05        0\n",
       "ps_calc_06        0\n",
       "ps_calc_07        0\n",
       "ps_calc_08        0\n",
       "ps_calc_09        0\n",
       "ps_calc_10        0\n",
       "ps_calc_11        0\n",
       "ps_calc_12        0\n",
       "ps_calc_13        0\n",
       "ps_calc_14        0\n",
       "ps_calc_15_bin    0\n",
       "ps_calc_16_bin    0\n",
       "ps_calc_17_bin    0\n",
       "ps_calc_18_bin    0\n",
       "ps_calc_19_bin    0\n",
       "ps_calc_20_bin    0\n",
       "dtype: int64"
      ]
     },
     "execution_count": 34,
     "metadata": {},
     "output_type": "execute_result"
    }
   ],
   "execution_count": 34
  },
  {
   "cell_type": "code",
   "source": [
    "column = train.columns"
   ],
   "metadata": {
    "id": "BXKi2NGnPmIn",
    "executionInfo": {
     "status": "aborted",
     "timestamp": 1711542014153,
     "user_tz": 180,
     "elapsed": 3038,
     "user": {
      "displayName": "Ulilé Indeque",
      "userId": "15028308079254431910"
     }
    },
    "ExecuteTime": {
     "end_time": "2024-10-24T00:34:06.887326Z",
     "start_time": "2024-10-24T00:34:06.879473Z"
    }
   },
   "outputs": [],
   "execution_count": 8
  },
  {
   "cell_type": "code",
   "source": [
    "noise_columns = ['ps_ind_10_bin', 'ps_ind_11_bin', 'ps_ind_12_bin', \n",
    "                 'ps_ind_13_bin', 'ps_ind_14', 'ps_car_10_cat']\n",
    "new_features = list(filter(lambda x: x not in noise_columns, column))"
   ],
   "metadata": {
    "id": "33Kq5t7wPL0w",
    "executionInfo": {
     "status": "aborted",
     "timestamp": 1711542014154,
     "user_tz": 180,
     "elapsed": 3031,
     "user": {
      "displayName": "Ulilé Indeque",
      "userId": "15028308079254431910"
     }
    },
    "ExecuteTime": {
     "end_time": "2024-10-24T01:01:12.059077Z",
     "start_time": "2024-10-24T01:01:12.049729Z"
    }
   },
   "outputs": [],
   "execution_count": 35
  },
  {
   "cell_type": "code",
   "source": [
    "train['ps_ind_03-ps_ind_02_cat'] = train['ps_ind_03']*train['ps_ind_02_cat']\n",
    "train['ps_car_13-ps_ind_03']     = train['ps_car_13']*train['ps_ind_03']\n",
    "\n",
    "test['ps_ind_03-ps_ind_02_cat']  = test['ps_ind_03']*test['ps_ind_02_cat']\n",
    "test['ps_car_13-ps_ind_03']      = test['ps_car_13']*test['ps_ind_03']\n",
    "\n",
    "new_features += ['ps_ind_03-ps_ind_02_cat', 'ps_car_13-ps_ind_03']"
   ],
   "metadata": {
    "id": "Yvco92jOPXTg",
    "executionInfo": {
     "status": "aborted",
     "timestamp": 1711542014154,
     "user_tz": 180,
     "elapsed": 3029,
     "user": {
      "displayName": "Ulilé Indeque",
      "userId": "15028308079254431910"
     }
    },
    "ExecuteTime": {
     "end_time": "2024-10-24T01:01:13.334859Z",
     "start_time": "2024-10-24T01:01:13.290127Z"
    }
   },
   "outputs": [],
   "execution_count": 36
  },
  {
   "cell_type": "code",
   "source": [
    "X = train[new_features]\n",
    "test = test[new_features]"
   ],
   "metadata": {
    "id": "LNrZkfQTP5XA",
    "executionInfo": {
     "status": "aborted",
     "timestamp": 1711542014155,
     "user_tz": 180,
     "elapsed": 3029,
     "user": {
      "displayName": "Ulilé Indeque",
      "userId": "15028308079254431910"
     }
    },
    "ExecuteTime": {
     "end_time": "2024-10-24T01:01:16.364388Z",
     "start_time": "2024-10-24T01:01:15.740300Z"
    }
   },
   "outputs": [],
   "execution_count": 37
  },
  {
   "cell_type": "code",
   "source": [
    "X_train, X_valid, y_train, y_valid = train_test_split(\n",
    "    X, target, test_size = 0.3, stratify = target, random_state = 42)"
   ],
   "metadata": {
    "id": "X_F8ns95QDbj",
    "executionInfo": {
     "status": "aborted",
     "timestamp": 1711542014156,
     "user_tz": 180,
     "elapsed": 3027,
     "user": {
      "displayName": "Ulilé Indeque",
      "userId": "15028308079254431910"
     }
    },
    "ExecuteTime": {
     "end_time": "2024-10-24T01:01:19.147709Z",
     "start_time": "2024-10-24T01:01:17.552251Z"
    }
   },
   "outputs": [],
   "execution_count": 38
  },
  {
   "cell_type": "code",
   "source": [
    "params = {\n",
    "    'objective': 'binary:logistic',\n",
    "    'tree_method': 'hist',\n",
    "    'device': 'cuda',\n",
    "    'lambda': 4.645511,\n",
    "    'alpha': 0.654147,\n",
    "    'colsample_bytree': 0.920,\n",
    "    'subsample': 0.66,\n",
    "    'learning_rate': 0.015,\n",
    "    'max_depth': 8,\n",
    "    'min_child_weight': 194,\n",
    "    'eval_metric': 'logloss'\n",
    "}"
   ],
   "metadata": {
    "id": "SDhW4V48QjPe",
    "executionInfo": {
     "status": "aborted",
     "timestamp": 1711542015109,
     "user_tz": 180,
     "elapsed": 10,
     "user": {
      "displayName": "Ulilé Indeque",
      "userId": "15028308079254431910"
     }
    },
    "ExecuteTime": {
     "end_time": "2024-10-24T01:01:25.827788Z",
     "start_time": "2024-10-24T01:01:25.817920Z"
    }
   },
   "outputs": [],
   "execution_count": 39
  },
  {
   "cell_type": "code",
   "source": [
    "train_df = xgb.DMatrix(\n",
    "    X_train.values, \n",
    "    label=y_train, \n",
    "    enable_categorical=True)\n",
    "val_df = xgb.DMatrix(\n",
    "    X_valid.values, \n",
    "    label=y_valid, \n",
    "    enable_categorical=True)\n",
    "xbg_model = xgb.train(\n",
    "    params, \n",
    "    train_df,\n",
    "    num_boost_round=1000)"
   ],
   "metadata": {
    "id": "beXdelKFQNWT",
    "executionInfo": {
     "status": "aborted",
     "timestamp": 1711542015110,
     "user_tz": 180,
     "elapsed": 11,
     "user": {
      "displayName": "Ulilé Indeque",
      "userId": "15028308079254431910"
     }
    }
   },
   "outputs": [],
   "execution_count": 41
  },
  {
   "cell_type": "code",
   "source": [
    "# https://www.kaggle.com/c/ClaimPredictionChallenge/discussion/703\n",
    "def gini(actual, pred):\n",
    "    assert( len(actual) == len(pred) )\n",
    "    all = np.asarray(np.c_[ actual, pred, np.arange(len(actual)) ], dtype=float)\n",
    "    all = all[ np.lexsort((all[:,2], -1*all[:,1])) ]\n",
    "    totalLosses = all[:,0].sum()\n",
    "    giniSum = all[:,0].cumsum().sum() / totalLosses\n",
    "\n",
    "    giniSum -= (len(actual) + 1) / 2\n",
    "    return giniSum / len(actual)\n",
    "\n",
    "def gini_normalized(a, p):\n",
    "    return gini(a, p) / gini(a, a)"
   ],
   "metadata": {
    "id": "EffkW36uQ5_D",
    "executionInfo": {
     "status": "aborted",
     "timestamp": 1711542015111,
     "user_tz": 180,
     "elapsed": 11,
     "user": {
      "displayName": "Ulilé Indeque",
      "userId": "15028308079254431910"
     }
    },
    "ExecuteTime": {
     "end_time": "2024-10-24T00:45:56.789681Z",
     "start_time": "2024-10-24T00:45:56.774777Z"
    }
   },
   "outputs": [],
   "execution_count": 17
  },
  {
   "cell_type": "code",
   "source": [
    "val_matrix = xgb.DMatrix(X_valid)\n",
    "val_pred = xbg_model.predict(val_matrix)\n",
    "print(f\"Gine score: {gini_normalized(y_valid, val_pred)}\")"
   ],
   "metadata": {
    "id": "58O0LnhyROF2",
    "executionInfo": {
     "status": "aborted",
     "timestamp": 1711542015111,
     "user_tz": 180,
     "elapsed": 11,
     "user": {
      "displayName": "Ulilé Indeque",
      "userId": "15028308079254431910"
     }
    },
    "ExecuteTime": {
     "end_time": "2024-10-24T01:09:55.668556Z",
     "start_time": "2024-10-24T01:09:54.261927Z"
    }
   },
   "outputs": [
    {
     "name": "stdout",
     "output_type": "stream",
     "text": [
      "Gine score: 0.29100373446543565\n"
     ]
    }
   ],
   "execution_count": 47
  },
  {
   "cell_type": "code",
   "source": [
    "X_test = xgb.DMatrix(test)\n",
    "y_hat = xbg_model.predict(X_test)"
   ],
   "metadata": {
    "id": "l9FPfjhcQQrB",
    "executionInfo": {
     "status": "aborted",
     "timestamp": 1711542015112,
     "user_tz": 180,
     "elapsed": 11,
     "user": {
      "displayName": "Ulilé Indeque",
      "userId": "15028308079254431910"
     }
    },
    "ExecuteTime": {
     "end_time": "2024-10-24T01:11:12.692330Z",
     "start_time": "2024-10-24T01:11:06.677239Z"
    }
   },
   "outputs": [],
   "execution_count": 48
  },
  {
   "cell_type": "code",
   "metadata": {
    "id": "bJ4AQWvTzIy8",
    "executionInfo": {
     "status": "aborted",
     "timestamp": 1711542015112,
     "user_tz": 180,
     "elapsed": 11,
     "user": {
      "displayName": "Ulilé Indeque",
      "userId": "15028308079254431910"
     }
    },
    "ExecuteTime": {
     "end_time": "2024-10-24T01:11:16.648415Z",
     "start_time": "2024-10-24T01:11:16.635076Z"
    }
   },
   "source": [
    "y_hat = pd.DataFrame({'id': range(0, len(y_hat)), 'target': y_hat})"
   ],
   "outputs": [],
   "execution_count": 49
  },
  {
   "cell_type": "code",
   "metadata": {
    "id": "ScIXPo_SzIy9",
    "executionInfo": {
     "status": "aborted",
     "timestamp": 1711542015114,
     "user_tz": 180,
     "elapsed": 12,
     "user": {
      "displayName": "Ulilé Indeque",
      "userId": "15028308079254431910"
     }
    },
    "ExecuteTime": {
     "end_time": "2024-10-24T01:21:27.107353Z",
     "start_time": "2024-10-24T01:21:23.919945Z"
    }
   },
   "source": "y_hat.to_csv(\"submission.csv\",index=False)",
   "outputs": [],
   "execution_count": 59
  }
 ],
 "metadata": {
  "colab": {
   "provenance": [
    {
     "file_id": "1U2-4ARC_DHHS6S9OUaW_Z_QY3G1NU4Km",
     "timestamp": 1711331846103
    },
    {
     "file_id": "1U_s9XgPwOzL8p6gp_u2hof3EL-o1bUgd",
     "timestamp": 1711330502972
    }
   ]
  },
  "kernelspec": {
   "display_name": "Python 3 (ipykernel)",
   "name": "python3",
   "language": "python"
  },
  "language_info": {
   "codemirror_mode": {
    "name": "ipython",
    "version": 3
   },
   "file_extension": ".py",
   "mimetype": "text/x-python",
   "name": "python",
   "nbconvert_exporter": "python",
   "pygments_lexer": "ipython3",
   "version": "3.11.6"
  }
 },
 "nbformat": 4,
 "nbformat_minor": 0
}
