{
 "cells": [
  {
   "metadata": {},
   "cell_type": "code",
   "source": [
    "from keras import layers\n",
    "from sklearn.model_selection import train_test_split"
   ],
   "id": "9487baa4cb5dca8d",
   "outputs": [],
   "execution_count": null
  },
  {
   "metadata": {
    "ExecuteTime": {
     "end_time": "2024-11-02T09:26:00.282341Z",
     "start_time": "2024-11-02T09:26:00.272469Z"
    }
   },
   "cell_type": "code",
   "source": [
    "import keras\n",
    "from keras import ops"
   ],
   "id": "bee94d312bc1aa22",
   "outputs": [],
   "execution_count": 2
  },
  {
   "cell_type": "code",
   "id": "initial_id",
   "metadata": {
    "collapsed": true,
    "ExecuteTime": {
     "end_time": "2024-11-02T09:26:07.084031Z",
     "start_time": "2024-11-02T09:26:05.931675Z"
    }
   },
   "source": [
    "import numpy as np\n",
    "import pandas as pd\n",
    "import unicodedata, re\n",
    "import tensorrt as trt\n",
    "import tensorflow as tf\n",
    "print(tf.config.list_physical_devices('GPU'))"
   ],
   "outputs": [
    {
     "name": "stdout",
     "output_type": "stream",
     "text": [
      "[PhysicalDevice(name='/physical_device:GPU:0', device_type='GPU')]\n"
     ]
    }
   ],
   "execution_count": 3
  },
  {
   "metadata": {
    "ExecuteTime": {
     "end_time": "2024-11-02T09:26:15.118514Z",
     "start_time": "2024-11-02T09:26:15.100685Z"
    }
   },
   "cell_type": "code",
   "source": [
    "def preprocess(tx):\n",
    "    txt = unicodedata.normalize('NFD', str(tx))\n",
    "    txt = ''.join([char for char in txt if not unicodedata.combining(char)])\n",
    "    txt = txt.lower()\n",
    "    txt = re.sub(r\"²+\", \"\", txt)\n",
    "    txt = re.sub(r\"/?\\s*ref\\s*\\.?\\s*[a-zA-Z0-9]+\", \"\", txt)\n",
    "    txt = re.sub(r'(\\d)\\s*,\\s*(\\d)', r'\\1.\\2', txt)\n",
    "    txt = re.sub(r'(?<=\\d)(?=\\D)|(?<=\\D)(?=\\d)', ' ', txt)\n",
    "    txt = re.sub(r'(\\d+)(x)(\\d+)', r'\\1 \\2 \\3', txt)\n",
    "\n",
    "    txt = re.sub(r'(x)(mm|cm)', r' \\1 \\2', txt)\n",
    "    txt = re.sub(r'(mm|cm)(x)', r' \\1 \\2', txt)\n",
    "\n",
    "    txt = re.sub(r'[^\\w\\s\\./]', '', txt)\n",
    "\n",
    "    txt = re.findall(r'\\d+|\\w+|[./]', txt)\n",
    "    txt = ' '.join(txt)\n",
    "\n",
    "    return txt"
   ],
   "id": "5e623b5c3bc4f61b",
   "outputs": [],
   "execution_count": 4
  },
  {
   "metadata": {
    "ExecuteTime": {
     "end_time": "2024-11-02T10:18:53.570097Z",
     "start_time": "2024-11-02T10:18:53.290507Z"
    }
   },
   "cell_type": "code",
   "source": [
    "def load_data():\n",
    "    root_path = \"../../data/\"\n",
    "    df_ = pd.read_csv(root_path+\"df_nondim.csv\")\n",
    "    df = pd.read_csv(root_path+\"df.csv\")\n",
    "    df = pd.concat([df, df_], ignore_index=True)\n",
    "    df = df[\n",
    "        df.category.str.contains(\"PISOS >|PORCELANATOS >|REVESTIMENTOS >\", case=False)\n",
    "        & ~df.category.str.contains(\"ACESSÓRIOS PARA PISOS\", case=False)]\n",
    "    \n",
    "    df_leroy = pd.read_csv(root_path+\"df_piso_leroy.csv\")\n",
    "    \n",
    "    df = pd.concat([df, df_leroy], ignore_index=True)\n",
    "    df.reset_index(drop=True, inplace=True)\n",
    "    df = df[[\"id\", \"name\", \"price\"]]\n",
    "    df[\"name\"] = df[\"name\"].apply(preprocess)\n",
    "    df.drop_duplicates(inplace=True)\n",
    "    display(df.head())\n",
    "    df.shape\n",
    "    return  df\n",
    "df = load_data()"
   ],
   "id": "5ef4d5cc77aca02e",
   "outputs": [
    {
     "data": {
      "text/plain": [
       "         id                                               name  price\n",
       "0  999348.0  porcelanato calacatta gold 100 x 100 acetinado...  117.9\n",
       "1  999707.0  piso esmaltado parquet brilhante 46 x 46 tipo ...   27.9\n",
       "2  999100.0  porcelanato georgia bege cetim acetinado retif...   79.9\n",
       "3  999467.0  porcelanato esmaltado hd fior di bosco acetina...   99.9\n",
       "4  999090.0  porcelanato travertino bege cetim acetinado re...   79.9"
      ],
      "text/html": [
       "<div>\n",
       "<style scoped>\n",
       "    .dataframe tbody tr th:only-of-type {\n",
       "        vertical-align: middle;\n",
       "    }\n",
       "\n",
       "    .dataframe tbody tr th {\n",
       "        vertical-align: top;\n",
       "    }\n",
       "\n",
       "    .dataframe thead th {\n",
       "        text-align: right;\n",
       "    }\n",
       "</style>\n",
       "<table border=\"1\" class=\"dataframe\">\n",
       "  <thead>\n",
       "    <tr style=\"text-align: right;\">\n",
       "      <th></th>\n",
       "      <th>id</th>\n",
       "      <th>name</th>\n",
       "      <th>price</th>\n",
       "    </tr>\n",
       "  </thead>\n",
       "  <tbody>\n",
       "    <tr>\n",
       "      <th>0</th>\n",
       "      <td>999348.0</td>\n",
       "      <td>porcelanato calacatta gold 100 x 100 acetinado...</td>\n",
       "      <td>117.9</td>\n",
       "    </tr>\n",
       "    <tr>\n",
       "      <th>1</th>\n",
       "      <td>999707.0</td>\n",
       "      <td>piso esmaltado parquet brilhante 46 x 46 tipo ...</td>\n",
       "      <td>27.9</td>\n",
       "    </tr>\n",
       "    <tr>\n",
       "      <th>2</th>\n",
       "      <td>999100.0</td>\n",
       "      <td>porcelanato georgia bege cetim acetinado retif...</td>\n",
       "      <td>79.9</td>\n",
       "    </tr>\n",
       "    <tr>\n",
       "      <th>3</th>\n",
       "      <td>999467.0</td>\n",
       "      <td>porcelanato esmaltado hd fior di bosco acetina...</td>\n",
       "      <td>99.9</td>\n",
       "    </tr>\n",
       "    <tr>\n",
       "      <th>4</th>\n",
       "      <td>999090.0</td>\n",
       "      <td>porcelanato travertino bege cetim acetinado re...</td>\n",
       "      <td>79.9</td>\n",
       "    </tr>\n",
       "  </tbody>\n",
       "</table>\n",
       "</div>"
      ]
     },
     "metadata": {},
     "output_type": "display_data"
    }
   ],
   "execution_count": 46
  },
  {
   "metadata": {
    "ExecuteTime": {
     "end_time": "2024-11-02T10:19:49.224031Z",
     "start_time": "2024-11-02T10:19:49.222081Z"
    }
   },
   "cell_type": "code",
   "source": "",
   "id": "7250471fafed56c8",
   "outputs": [],
   "execution_count": null
  },
  {
   "metadata": {
    "ExecuteTime": {
     "end_time": "2024-11-02T10:29:26.965692Z",
     "start_time": "2024-11-02T10:29:26.952578Z"
    }
   },
   "cell_type": "code",
   "source": [
    "texts = ['calacatta gold satin rectified porcelain tile 100 x 100 type a elizabeth',\n",
    "         'parquet glossy enamel tile 46 x 46 type a incenor 67040',\n",
    "         'georgia beige satin rectified porcelain tile 80 x 80 type a incesa',\n",
    "         'fior di bosco satin rectified enamel porcelain tile 101 x 101 type a elizabeth',\n",
    "         'travertine beige satin rectified porcelain tile 80 x 80 type a incesa',\n",
    "         'capim dourado satin rectified porcelain tile 100 x 100 type a elizabeth',\n",
    "         'tenerife natural outdoor rectified porcelain tile 26 x 106 type a incesa',\n",
    "         'travertine beige outdoor rectified porcelain tile 80 x 80 type a incesa',\n",
    "         'calacatta gold polished rectified porcelain tile 100 x 100 type a elizabeth',\n",
    "         'tenerife natural satin rectified porcelain tile 26 x 106 type a incesa',\n",
    "         'felicita satin rectified wall tile 45 x 90 type a incesa',\n",
    "         'anni terra satin rectified wall tile 45 x 90 type a incesa',\n",
    "         'urutu satin rectified porcelain tile 100 x 100 type a elizabeth',\n",
    "         'ibiza white satin rectified porcelain tile 80 x 80 type a incesa',\n",
    "         'etna gray outdoor rectified porcelain tile 90 x 90 type a incesa',\n",
    "         'habitar nebbia satin rectified porcelain tile 80 x 80 type a incesa',\n",
    "         'habitar gray satin rectified porcelain tile 80 x 80 type a incesa',\n",
    "         'detroit gray outdoor rectified porcelain tile 90 x 90 type a incesa',\n",
    "         'essence gray polished rectified porcelain tile 80 x 80 type a incesa',\n",
    "         'georgia beige outdoor rectified porcelain tile 80 x 80 type a incesa']\n"
   ],
   "id": "8e18dec530ed3b70",
   "outputs": [],
   "execution_count": 66
  },
  {
   "metadata": {
    "ExecuteTime": {
     "end_time": "2024-11-02T10:48:53.306464Z",
     "start_time": "2024-11-02T10:48:53.193031Z"
    }
   },
   "cell_type": "code",
   "source": [
    "texts = df[\"name\"][:20].to_list()\n",
    "\n",
    "max_tokens = 3000  # Tamanho máximo do vocabulário\n",
    "max_len = 15        # Tamanho máximo de cada sequência\n",
    "\n",
    "vectorize_layer = keras.layers.TextVectorization(\n",
    "    output_mode='int',             \n",
    "    output_sequence_length=max_len, \n",
    "    standardize=\"lower_and_strip_punctuation\", \n",
    ")\n",
    "\n",
    "vectorize_layer.adapt(texts)\n",
    "\n",
    "X = vectorize_layer(texts)\n",
    "#print(\"Exemplo de sequências tokenizadas:\\n\", X.numpy())"
   ],
   "id": "7a10fb4e09987843",
   "outputs": [],
   "execution_count": 98
  },
  {
   "metadata": {
    "ExecuteTime": {
     "end_time": "2024-11-02T10:48:55.577947Z",
     "start_time": "2024-11-02T10:48:55.565464Z"
    }
   },
   "cell_type": "code",
   "source": [
    "def create_dataset(texts, vectorize_layer, max_len):\n",
    "    X, y = [], []\n",
    "    for text in texts:\n",
    "        tokenized_text = vectorize_layer(text).numpy()\n",
    "        for i in range(1, len(tokenized_text)):\n",
    "            X.append(tokenized_text[:i])\n",
    "            y.append(tokenized_text[i])\n",
    "\n",
    "    X = tf.keras.preprocessing.sequence.pad_sequences(X, maxlen=max_len)\n",
    "    y = tf.keras.utils.to_categorical(y, num_classes=max_tokens)\n",
    "\n",
    "    return np.array(X), np.array(y)\n"
   ],
   "id": "c66f1318ddcd9e84",
   "outputs": [],
   "execution_count": 99
  },
  {
   "metadata": {
    "ExecuteTime": {
     "end_time": "2024-11-02T10:48:59.421279Z",
     "start_time": "2024-11-02T10:48:59.407645Z"
    }
   },
   "cell_type": "code",
   "source": "vectorize_layer.vocabulary_size()",
   "id": "b36e576de61e237b",
   "outputs": [
    {
     "data": {
      "text/plain": [
       "55"
      ]
     },
     "execution_count": 100,
     "metadata": {},
     "output_type": "execute_result"
    }
   ],
   "execution_count": 100
  },
  {
   "metadata": {
    "ExecuteTime": {
     "end_time": "2024-11-02T10:51:56.538335Z",
     "start_time": "2024-11-02T10:51:56.426851Z"
    }
   },
   "cell_type": "code",
   "source": [
    "embedding_dim = 256\n",
    "hidden_units = 256\n",
    "max_tokens = vectorize_layer.vocabulary_size()\n",
    "\n",
    "model = keras.models.Sequential([\n",
    "    keras.layers.Embedding(input_dim=max_tokens, output_dim=embedding_dim),\n",
    "    keras.layers.LSTM(units=hidden_units, return_sequences=False),\n",
    "    keras.layers.Dropout(0.2),\n",
    "    keras.layers.Dense(units=max_tokens, activation='softmax')\n",
    "])\n",
    "\n",
    "model.compile(\n",
    "    optimizer='adamw', \n",
    "    loss='categorical_crossentropy', \n",
    "    metrics=['accuracy']\n",
    ")\n",
    "\n",
    "model.summary()"
   ],
   "id": "9fd60610f50745ca",
   "outputs": [
    {
     "data": {
      "text/plain": [
       "\u001B[1mModel: \"sequential_24\"\u001B[0m\n"
      ],
      "text/html": [
       "<pre style=\"white-space:pre;overflow-x:auto;line-height:normal;font-family:Menlo,'DejaVu Sans Mono',consolas,'Courier New',monospace\"><span style=\"font-weight: bold\">Model: \"sequential_24\"</span>\n",
       "</pre>\n"
      ]
     },
     "metadata": {},
     "output_type": "display_data"
    },
    {
     "data": {
      "text/plain": [
       "┏━━━━━━━━━━━━━━━━━━━━━━━━━━━━━━━━━┳━━━━━━━━━━━━━━━━━━━━━━━━┳━━━━━━━━━━━━━━━┓\n",
       "┃\u001B[1m \u001B[0m\u001B[1mLayer (type)                   \u001B[0m\u001B[1m \u001B[0m┃\u001B[1m \u001B[0m\u001B[1mOutput Shape          \u001B[0m\u001B[1m \u001B[0m┃\u001B[1m \u001B[0m\u001B[1m      Param #\u001B[0m\u001B[1m \u001B[0m┃\n",
       "┡━━━━━━━━━━━━━━━━━━━━━━━━━━━━━━━━━╇━━━━━━━━━━━━━━━━━━━━━━━━╇━━━━━━━━━━━━━━━┩\n",
       "│ embedding_24 (\u001B[38;5;33mEmbedding\u001B[0m)        │ ?                      │   \u001B[38;5;34m0\u001B[0m (unbuilt) │\n",
       "├─────────────────────────────────┼────────────────────────┼───────────────┤\n",
       "│ lstm_24 (\u001B[38;5;33mLSTM\u001B[0m)                  │ ?                      │   \u001B[38;5;34m0\u001B[0m (unbuilt) │\n",
       "├─────────────────────────────────┼────────────────────────┼───────────────┤\n",
       "│ dropout (\u001B[38;5;33mDropout\u001B[0m)               │ ?                      │             \u001B[38;5;34m0\u001B[0m │\n",
       "├─────────────────────────────────┼────────────────────────┼───────────────┤\n",
       "│ dense_24 (\u001B[38;5;33mDense\u001B[0m)                │ ?                      │   \u001B[38;5;34m0\u001B[0m (unbuilt) │\n",
       "└─────────────────────────────────┴────────────────────────┴───────────────┘\n"
      ],
      "text/html": [
       "<pre style=\"white-space:pre;overflow-x:auto;line-height:normal;font-family:Menlo,'DejaVu Sans Mono',consolas,'Courier New',monospace\">┏━━━━━━━━━━━━━━━━━━━━━━━━━━━━━━━━━┳━━━━━━━━━━━━━━━━━━━━━━━━┳━━━━━━━━━━━━━━━┓\n",
       "┃<span style=\"font-weight: bold\"> Layer (type)                    </span>┃<span style=\"font-weight: bold\"> Output Shape           </span>┃<span style=\"font-weight: bold\">       Param # </span>┃\n",
       "┡━━━━━━━━━━━━━━━━━━━━━━━━━━━━━━━━━╇━━━━━━━━━━━━━━━━━━━━━━━━╇━━━━━━━━━━━━━━━┩\n",
       "│ embedding_24 (<span style=\"color: #0087ff; text-decoration-color: #0087ff\">Embedding</span>)        │ ?                      │   <span style=\"color: #00af00; text-decoration-color: #00af00\">0</span> (unbuilt) │\n",
       "├─────────────────────────────────┼────────────────────────┼───────────────┤\n",
       "│ lstm_24 (<span style=\"color: #0087ff; text-decoration-color: #0087ff\">LSTM</span>)                  │ ?                      │   <span style=\"color: #00af00; text-decoration-color: #00af00\">0</span> (unbuilt) │\n",
       "├─────────────────────────────────┼────────────────────────┼───────────────┤\n",
       "│ dropout (<span style=\"color: #0087ff; text-decoration-color: #0087ff\">Dropout</span>)               │ ?                      │             <span style=\"color: #00af00; text-decoration-color: #00af00\">0</span> │\n",
       "├─────────────────────────────────┼────────────────────────┼───────────────┤\n",
       "│ dense_24 (<span style=\"color: #0087ff; text-decoration-color: #0087ff\">Dense</span>)                │ ?                      │   <span style=\"color: #00af00; text-decoration-color: #00af00\">0</span> (unbuilt) │\n",
       "└─────────────────────────────────┴────────────────────────┴───────────────┘\n",
       "</pre>\n"
      ]
     },
     "metadata": {},
     "output_type": "display_data"
    },
    {
     "data": {
      "text/plain": [
       "\u001B[1m Total params: \u001B[0m\u001B[38;5;34m0\u001B[0m (0.00 B)\n"
      ],
      "text/html": [
       "<pre style=\"white-space:pre;overflow-x:auto;line-height:normal;font-family:Menlo,'DejaVu Sans Mono',consolas,'Courier New',monospace\"><span style=\"font-weight: bold\"> Total params: </span><span style=\"color: #00af00; text-decoration-color: #00af00\">0</span> (0.00 B)\n",
       "</pre>\n"
      ]
     },
     "metadata": {},
     "output_type": "display_data"
    },
    {
     "data": {
      "text/plain": [
       "\u001B[1m Trainable params: \u001B[0m\u001B[38;5;34m0\u001B[0m (0.00 B)\n"
      ],
      "text/html": [
       "<pre style=\"white-space:pre;overflow-x:auto;line-height:normal;font-family:Menlo,'DejaVu Sans Mono',consolas,'Courier New',monospace\"><span style=\"font-weight: bold\"> Trainable params: </span><span style=\"color: #00af00; text-decoration-color: #00af00\">0</span> (0.00 B)\n",
       "</pre>\n"
      ]
     },
     "metadata": {},
     "output_type": "display_data"
    },
    {
     "data": {
      "text/plain": [
       "\u001B[1m Non-trainable params: \u001B[0m\u001B[38;5;34m0\u001B[0m (0.00 B)\n"
      ],
      "text/html": [
       "<pre style=\"white-space:pre;overflow-x:auto;line-height:normal;font-family:Menlo,'DejaVu Sans Mono',consolas,'Courier New',monospace\"><span style=\"font-weight: bold\"> Non-trainable params: </span><span style=\"color: #00af00; text-decoration-color: #00af00\">0</span> (0.00 B)\n",
       "</pre>\n"
      ]
     },
     "metadata": {},
     "output_type": "display_data"
    }
   ],
   "execution_count": 109
  },
  {
   "metadata": {
    "ExecuteTime": {
     "end_time": "2024-11-02T10:49:55.216962Z",
     "start_time": "2024-11-02T10:49:54.349143Z"
    }
   },
   "cell_type": "code",
   "source": "X_train, y_train = create_dataset(texts, vectorize_layer, max_len)",
   "id": "27e455d336459b9d",
   "outputs": [],
   "execution_count": 105
  },
  {
   "metadata": {
    "ExecuteTime": {
     "end_time": "2024-11-02T10:52:13.385516Z",
     "start_time": "2024-11-02T10:52:02.299044Z"
    }
   },
   "cell_type": "code",
   "source": [
    "model.fit(\n",
    "    X_train,\n",
    "    y_train,\n",
    "    epochs=20,\n",
    "    batch_size=32\n",
    ")"
   ],
   "id": "cb9b95d6e6c83f5c",
   "outputs": [
    {
     "name": "stdout",
     "output_type": "stream",
     "text": [
      "Epoch 1/20\n",
      "\u001B[1m9/9\u001B[0m \u001B[32m━━━━━━━━━━━━━━━━━━━━\u001B[0m\u001B[37m\u001B[0m \u001B[1m5s\u001B[0m 24ms/step - accuracy: 0.1824 - loss: 3.9098\n",
      "Epoch 2/20\n",
      "\u001B[1m9/9\u001B[0m \u001B[32m━━━━━━━━━━━━━━━━━━━━\u001B[0m\u001B[37m\u001B[0m \u001B[1m0s\u001B[0m 23ms/step - accuracy: 0.2672 - loss: 3.0541\n",
      "Epoch 3/20\n",
      "\u001B[1m9/9\u001B[0m \u001B[32m━━━━━━━━━━━━━━━━━━━━\u001B[0m\u001B[37m\u001B[0m \u001B[1m0s\u001B[0m 22ms/step - accuracy: 0.3078 - loss: 2.5042\n",
      "Epoch 4/20\n",
      "\u001B[1m9/9\u001B[0m \u001B[32m━━━━━━━━━━━━━━━━━━━━\u001B[0m\u001B[37m\u001B[0m \u001B[1m0s\u001B[0m 22ms/step - accuracy: 0.4115 - loss: 2.2280\n",
      "Epoch 5/20\n",
      "\u001B[1m9/9\u001B[0m \u001B[32m━━━━━━━━━━━━━━━━━━━━\u001B[0m\u001B[37m\u001B[0m \u001B[1m0s\u001B[0m 23ms/step - accuracy: 0.4403 - loss: 2.0845\n",
      "Epoch 6/20\n",
      "\u001B[1m9/9\u001B[0m \u001B[32m━━━━━━━━━━━━━━━━━━━━\u001B[0m\u001B[37m\u001B[0m \u001B[1m0s\u001B[0m 23ms/step - accuracy: 0.5190 - loss: 1.9384\n",
      "Epoch 7/20\n",
      "\u001B[1m9/9\u001B[0m \u001B[32m━━━━━━━━━━━━━━━━━━━━\u001B[0m\u001B[37m\u001B[0m \u001B[1m0s\u001B[0m 22ms/step - accuracy: 0.5133 - loss: 1.8297\n",
      "Epoch 8/20\n",
      "\u001B[1m9/9\u001B[0m \u001B[32m━━━━━━━━━━━━━━━━━━━━\u001B[0m\u001B[37m\u001B[0m \u001B[1m0s\u001B[0m 22ms/step - accuracy: 0.5675 - loss: 1.6614\n",
      "Epoch 9/20\n",
      "\u001B[1m9/9\u001B[0m \u001B[32m━━━━━━━━━━━━━━━━━━━━\u001B[0m\u001B[37m\u001B[0m \u001B[1m0s\u001B[0m 22ms/step - accuracy: 0.5522 - loss: 1.5877\n",
      "Epoch 10/20\n",
      "\u001B[1m9/9\u001B[0m \u001B[32m━━━━━━━━━━━━━━━━━━━━\u001B[0m\u001B[37m\u001B[0m \u001B[1m0s\u001B[0m 22ms/step - accuracy: 0.5742 - loss: 1.6031\n",
      "Epoch 11/20\n",
      "\u001B[1m9/9\u001B[0m \u001B[32m━━━━━━━━━━━━━━━━━━━━\u001B[0m\u001B[37m\u001B[0m \u001B[1m0s\u001B[0m 22ms/step - accuracy: 0.6218 - loss: 1.4807\n",
      "Epoch 12/20\n",
      "\u001B[1m9/9\u001B[0m \u001B[32m━━━━━━━━━━━━━━━━━━━━\u001B[0m\u001B[37m\u001B[0m \u001B[1m0s\u001B[0m 22ms/step - accuracy: 0.6494 - loss: 1.2867\n",
      "Epoch 13/20\n",
      "\u001B[1m9/9\u001B[0m \u001B[32m━━━━━━━━━━━━━━━━━━━━\u001B[0m\u001B[37m\u001B[0m \u001B[1m0s\u001B[0m 23ms/step - accuracy: 0.6320 - loss: 1.3565\n",
      "Epoch 14/20\n",
      "\u001B[1m9/9\u001B[0m \u001B[32m━━━━━━━━━━━━━━━━━━━━\u001B[0m\u001B[37m\u001B[0m \u001B[1m0s\u001B[0m 22ms/step - accuracy: 0.6678 - loss: 1.3918\n",
      "Epoch 15/20\n",
      "\u001B[1m9/9\u001B[0m \u001B[32m━━━━━━━━━━━━━━━━━━━━\u001B[0m\u001B[37m\u001B[0m \u001B[1m0s\u001B[0m 22ms/step - accuracy: 0.7020 - loss: 1.1732\n",
      "Epoch 16/20\n",
      "\u001B[1m9/9\u001B[0m \u001B[32m━━━━━━━━━━━━━━━━━━━━\u001B[0m\u001B[37m\u001B[0m \u001B[1m0s\u001B[0m 23ms/step - accuracy: 0.6630 - loss: 1.1873\n",
      "Epoch 17/20\n",
      "\u001B[1m9/9\u001B[0m \u001B[32m━━━━━━━━━━━━━━━━━━━━\u001B[0m\u001B[37m\u001B[0m \u001B[1m0s\u001B[0m 23ms/step - accuracy: 0.7408 - loss: 1.1480\n",
      "Epoch 18/20\n",
      "\u001B[1m9/9\u001B[0m \u001B[32m━━━━━━━━━━━━━━━━━━━━\u001B[0m\u001B[37m\u001B[0m \u001B[1m0s\u001B[0m 23ms/step - accuracy: 0.7374 - loss: 1.0143\n",
      "Epoch 19/20\n",
      "\u001B[1m9/9\u001B[0m \u001B[32m━━━━━━━━━━━━━━━━━━━━\u001B[0m\u001B[37m\u001B[0m \u001B[1m0s\u001B[0m 22ms/step - accuracy: 0.7555 - loss: 0.9250\n",
      "Epoch 20/20\n",
      "\u001B[1m9/9\u001B[0m \u001B[32m━━━━━━━━━━━━━━━━━━━━\u001B[0m\u001B[37m\u001B[0m \u001B[1m0s\u001B[0m 22ms/step - accuracy: 0.7713 - loss: 0.8640\n"
     ]
    },
    {
     "data": {
      "text/plain": [
       "<keras.src.callbacks.history.History at 0x75d64421b860>"
      ]
     },
     "execution_count": 110,
     "metadata": {},
     "output_type": "execute_result"
    }
   ],
   "execution_count": 110
  },
  {
   "metadata": {
    "ExecuteTime": {
     "end_time": "2024-11-02T11:01:38.710906Z",
     "start_time": "2024-11-02T11:01:38.695948Z"
    }
   },
   "cell_type": "code",
   "source": "df[:100].to_csv(\"to_claude.csv\", index=False)",
   "id": "24433db7a747e60f",
   "outputs": [],
   "execution_count": 114
  }
 ],
 "metadata": {
  "kernelspec": {
   "display_name": "Python 3",
   "language": "python",
   "name": "python3"
  },
  "language_info": {
   "codemirror_mode": {
    "name": "ipython",
    "version": 2
   },
   "file_extension": ".py",
   "mimetype": "text/x-python",
   "name": "python",
   "nbconvert_exporter": "python",
   "pygments_lexer": "ipython2",
   "version": "2.7.6"
  }
 },
 "nbformat": 4,
 "nbformat_minor": 5
}
