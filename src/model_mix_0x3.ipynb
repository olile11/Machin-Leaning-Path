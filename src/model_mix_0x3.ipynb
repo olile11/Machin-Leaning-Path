{
 "cells": [
  {
   "metadata": {},
   "cell_type": "code",
   "source": [
    "import pandas as pd\n",
    "import numpy as np\n",
    "from numpy.ma.core import around\n",
    "from rich.filesize import decimal\n",
    "from sklearn.model_selection import train_test_split\n",
    "from sklearn.preprocessing import MinMaxScaler\n",
    "from tensorflow.keras.preprocessing.text import Tokenizer\n",
    "from tensorflow.keras.preprocessing.sequence import pad_sequences\n",
    "from tensorflow.keras.models import Sequential\n",
    "from tensorflow.keras.layers import Embedding, LSTM, Dense, Dropout, Bidirectional\n",
    "from tensorflow.keras.optimizers import Adam\n",
    "from tensorflow.keras.callbacks import EarlyStopping\n",
    "import matplotlib.pyplot as plt\n",
    "import seaborn as sns\n",
    "from sklearn.metrics import mean_squared_error, mean_absolute_error\n",
    "import re"
   ],
   "id": "6a0c7679d8cf1abf",
   "outputs": [],
   "execution_count": null
  },
  {
   "metadata": {
    "ExecuteTime": {
     "end_time": "2024-11-04T17:31:34.815128Z",
     "start_time": "2024-11-04T17:31:34.798732Z"
    }
   },
   "cell_type": "code",
   "source": [
    "# 1. Carregamento e Pré-processamento dos Dados\n",
    "df = pd.read_csv('cleaned_df.csv')"
   ],
   "id": "b601e2b6fbad92f0",
   "outputs": [],
   "execution_count": 11
  },
  {
   "metadata": {
    "ExecuteTime": {
     "end_time": "2024-11-04T17:31:48.954550Z",
     "start_time": "2024-11-04T17:31:48.803407Z"
    }
   },
   "cell_type": "code",
   "source": [
    "# 2. Preparação dos Dados\n",
    "# Tokenização\n",
    "tokenizer = Tokenizer()\n",
    "tokenizer.fit_on_texts(df['name'])\n",
    "X = tokenizer.texts_to_sequences(df['name'])\n",
    "X = pad_sequences(X, maxlen=15)\n",
    "\n",
    "# Normalização dos preços\n",
    "scaler = MinMaxScaler()\n",
    "y = scaler.fit_transform(df['price'].values.reshape(-1, 1))\n",
    "\n",
    "# Divisão dos dados\n",
    "X_train, X_test, y_train, y_test = train_test_split(\n",
    "    X, y, test_size=0.2, random_state=42)"
   ],
   "id": "47e47951762d25d1",
   "outputs": [],
   "execution_count": 13
  },
  {
   "metadata": {
    "ExecuteTime": {
     "end_time": "2024-11-04T17:31:52.109861Z",
     "start_time": "2024-11-04T17:31:51.966486Z"
    }
   },
   "cell_type": "code",
   "source": [
    "# 3. Construção do Modelo\n",
    "model = Sequential([\n",
    "    Embedding(len(tokenizer.word_index) + 1, 64, input_length=20),\n",
    "    Bidirectional(LSTM(32, return_sequences=True)),\n",
    "    Dropout(0.3),\n",
    "    Bidirectional(LSTM(16)),\n",
    "    Dropout(0.2),\n",
    "    Dense(32, activation='relu'),\n",
    "    Dropout(0.2),\n",
    "    Dense(16, activation='relu'),\n",
    "    Dense(1, activation='linear')\n",
    "])\n",
    "\n",
    "model.compile(\n",
    "    optimizer=Adam(learning_rate=0.001),\n",
    "    loss='mse',\n",
    "    metrics=['mae']\n",
    ")\n",
    "\n",
    "model.summary()"
   ],
   "id": "581133d15ce62c9e",
   "outputs": [
    {
     "name": "stderr",
     "output_type": "stream",
     "text": [
      "/home/laccan/IdeaProjects/Orion/ovenv/lib/python3.12/site-packages/keras/src/layers/core/embedding.py:90: UserWarning: Argument `input_length` is deprecated. Just remove it.\n",
      "  warnings.warn(\n"
     ]
    },
    {
     "data": {
      "text/plain": [
       "\u001B[1mModel: \"sequential_1\"\u001B[0m\n"
      ],
      "text/html": [
       "<pre style=\"white-space:pre;overflow-x:auto;line-height:normal;font-family:Menlo,'DejaVu Sans Mono',consolas,'Courier New',monospace\"><span style=\"font-weight: bold\">Model: \"sequential_1\"</span>\n",
       "</pre>\n"
      ]
     },
     "metadata": {},
     "output_type": "display_data"
    },
    {
     "data": {
      "text/plain": [
       "┏━━━━━━━━━━━━━━━━━━━━━━━━━━━━━━━━━┳━━━━━━━━━━━━━━━━━━━━━━━━┳━━━━━━━━━━━━━━━┓\n",
       "┃\u001B[1m \u001B[0m\u001B[1mLayer (type)                   \u001B[0m\u001B[1m \u001B[0m┃\u001B[1m \u001B[0m\u001B[1mOutput Shape          \u001B[0m\u001B[1m \u001B[0m┃\u001B[1m \u001B[0m\u001B[1m      Param #\u001B[0m\u001B[1m \u001B[0m┃\n",
       "┡━━━━━━━━━━━━━━━━━━━━━━━━━━━━━━━━━╇━━━━━━━━━━━━━━━━━━━━━━━━╇━━━━━━━━━━━━━━━┩\n",
       "│ embedding_1 (\u001B[38;5;33mEmbedding\u001B[0m)         │ ?                      │   \u001B[38;5;34m0\u001B[0m (unbuilt) │\n",
       "├─────────────────────────────────┼────────────────────────┼───────────────┤\n",
       "│ bidirectional_2 (\u001B[38;5;33mBidirectional\u001B[0m) │ ?                      │   \u001B[38;5;34m0\u001B[0m (unbuilt) │\n",
       "├─────────────────────────────────┼────────────────────────┼───────────────┤\n",
       "│ dropout_3 (\u001B[38;5;33mDropout\u001B[0m)             │ ?                      │             \u001B[38;5;34m0\u001B[0m │\n",
       "├─────────────────────────────────┼────────────────────────┼───────────────┤\n",
       "│ bidirectional_3 (\u001B[38;5;33mBidirectional\u001B[0m) │ ?                      │   \u001B[38;5;34m0\u001B[0m (unbuilt) │\n",
       "├─────────────────────────────────┼────────────────────────┼───────────────┤\n",
       "│ dropout_4 (\u001B[38;5;33mDropout\u001B[0m)             │ ?                      │             \u001B[38;5;34m0\u001B[0m │\n",
       "├─────────────────────────────────┼────────────────────────┼───────────────┤\n",
       "│ dense_3 (\u001B[38;5;33mDense\u001B[0m)                 │ ?                      │   \u001B[38;5;34m0\u001B[0m (unbuilt) │\n",
       "├─────────────────────────────────┼────────────────────────┼───────────────┤\n",
       "│ dropout_5 (\u001B[38;5;33mDropout\u001B[0m)             │ ?                      │             \u001B[38;5;34m0\u001B[0m │\n",
       "├─────────────────────────────────┼────────────────────────┼───────────────┤\n",
       "│ dense_4 (\u001B[38;5;33mDense\u001B[0m)                 │ ?                      │   \u001B[38;5;34m0\u001B[0m (unbuilt) │\n",
       "├─────────────────────────────────┼────────────────────────┼───────────────┤\n",
       "│ dense_5 (\u001B[38;5;33mDense\u001B[0m)                 │ ?                      │   \u001B[38;5;34m0\u001B[0m (unbuilt) │\n",
       "└─────────────────────────────────┴────────────────────────┴───────────────┘\n"
      ],
      "text/html": [
       "<pre style=\"white-space:pre;overflow-x:auto;line-height:normal;font-family:Menlo,'DejaVu Sans Mono',consolas,'Courier New',monospace\">┏━━━━━━━━━━━━━━━━━━━━━━━━━━━━━━━━━┳━━━━━━━━━━━━━━━━━━━━━━━━┳━━━━━━━━━━━━━━━┓\n",
       "┃<span style=\"font-weight: bold\"> Layer (type)                    </span>┃<span style=\"font-weight: bold\"> Output Shape           </span>┃<span style=\"font-weight: bold\">       Param # </span>┃\n",
       "┡━━━━━━━━━━━━━━━━━━━━━━━━━━━━━━━━━╇━━━━━━━━━━━━━━━━━━━━━━━━╇━━━━━━━━━━━━━━━┩\n",
       "│ embedding_1 (<span style=\"color: #0087ff; text-decoration-color: #0087ff\">Embedding</span>)         │ ?                      │   <span style=\"color: #00af00; text-decoration-color: #00af00\">0</span> (unbuilt) │\n",
       "├─────────────────────────────────┼────────────────────────┼───────────────┤\n",
       "│ bidirectional_2 (<span style=\"color: #0087ff; text-decoration-color: #0087ff\">Bidirectional</span>) │ ?                      │   <span style=\"color: #00af00; text-decoration-color: #00af00\">0</span> (unbuilt) │\n",
       "├─────────────────────────────────┼────────────────────────┼───────────────┤\n",
       "│ dropout_3 (<span style=\"color: #0087ff; text-decoration-color: #0087ff\">Dropout</span>)             │ ?                      │             <span style=\"color: #00af00; text-decoration-color: #00af00\">0</span> │\n",
       "├─────────────────────────────────┼────────────────────────┼───────────────┤\n",
       "│ bidirectional_3 (<span style=\"color: #0087ff; text-decoration-color: #0087ff\">Bidirectional</span>) │ ?                      │   <span style=\"color: #00af00; text-decoration-color: #00af00\">0</span> (unbuilt) │\n",
       "├─────────────────────────────────┼────────────────────────┼───────────────┤\n",
       "│ dropout_4 (<span style=\"color: #0087ff; text-decoration-color: #0087ff\">Dropout</span>)             │ ?                      │             <span style=\"color: #00af00; text-decoration-color: #00af00\">0</span> │\n",
       "├─────────────────────────────────┼────────────────────────┼───────────────┤\n",
       "│ dense_3 (<span style=\"color: #0087ff; text-decoration-color: #0087ff\">Dense</span>)                 │ ?                      │   <span style=\"color: #00af00; text-decoration-color: #00af00\">0</span> (unbuilt) │\n",
       "├─────────────────────────────────┼────────────────────────┼───────────────┤\n",
       "│ dropout_5 (<span style=\"color: #0087ff; text-decoration-color: #0087ff\">Dropout</span>)             │ ?                      │             <span style=\"color: #00af00; text-decoration-color: #00af00\">0</span> │\n",
       "├─────────────────────────────────┼────────────────────────┼───────────────┤\n",
       "│ dense_4 (<span style=\"color: #0087ff; text-decoration-color: #0087ff\">Dense</span>)                 │ ?                      │   <span style=\"color: #00af00; text-decoration-color: #00af00\">0</span> (unbuilt) │\n",
       "├─────────────────────────────────┼────────────────────────┼───────────────┤\n",
       "│ dense_5 (<span style=\"color: #0087ff; text-decoration-color: #0087ff\">Dense</span>)                 │ ?                      │   <span style=\"color: #00af00; text-decoration-color: #00af00\">0</span> (unbuilt) │\n",
       "└─────────────────────────────────┴────────────────────────┴───────────────┘\n",
       "</pre>\n"
      ]
     },
     "metadata": {},
     "output_type": "display_data"
    },
    {
     "data": {
      "text/plain": [
       "\u001B[1m Total params: \u001B[0m\u001B[38;5;34m0\u001B[0m (0.00 B)\n"
      ],
      "text/html": [
       "<pre style=\"white-space:pre;overflow-x:auto;line-height:normal;font-family:Menlo,'DejaVu Sans Mono',consolas,'Courier New',monospace\"><span style=\"font-weight: bold\"> Total params: </span><span style=\"color: #00af00; text-decoration-color: #00af00\">0</span> (0.00 B)\n",
       "</pre>\n"
      ]
     },
     "metadata": {},
     "output_type": "display_data"
    },
    {
     "data": {
      "text/plain": [
       "\u001B[1m Trainable params: \u001B[0m\u001B[38;5;34m0\u001B[0m (0.00 B)\n"
      ],
      "text/html": [
       "<pre style=\"white-space:pre;overflow-x:auto;line-height:normal;font-family:Menlo,'DejaVu Sans Mono',consolas,'Courier New',monospace\"><span style=\"font-weight: bold\"> Trainable params: </span><span style=\"color: #00af00; text-decoration-color: #00af00\">0</span> (0.00 B)\n",
       "</pre>\n"
      ]
     },
     "metadata": {},
     "output_type": "display_data"
    },
    {
     "data": {
      "text/plain": [
       "\u001B[1m Non-trainable params: \u001B[0m\u001B[38;5;34m0\u001B[0m (0.00 B)\n"
      ],
      "text/html": [
       "<pre style=\"white-space:pre;overflow-x:auto;line-height:normal;font-family:Menlo,'DejaVu Sans Mono',consolas,'Courier New',monospace\"><span style=\"font-weight: bold\"> Non-trainable params: </span><span style=\"color: #00af00; text-decoration-color: #00af00\">0</span> (0.00 B)\n",
       "</pre>\n"
      ]
     },
     "metadata": {},
     "output_type": "display_data"
    }
   ],
   "execution_count": 14
  },
  {
   "metadata": {
    "ExecuteTime": {
     "end_time": "2024-11-04T17:33:18.662844Z",
     "start_time": "2024-11-04T17:32:04.230723Z"
    }
   },
   "cell_type": "code",
   "source": [
    "# Early Stopping para evitar overfitting\n",
    "early_stopping = EarlyStopping(\n",
    "    monitor='val_loss',\n",
    "    patience=10,\n",
    "    restore_best_weights=True\n",
    ")\n",
    "\n",
    "# 4. Treinamento do Modelo\n",
    "history = model.fit(\n",
    "    X_train, y_train,\n",
    "    epochs=100,\n",
    "    batch_size=32,\n",
    "    validation_split=0.2,\n",
    "    callbacks=[early_stopping],\n",
    "    verbose=1\n",
    ")"
   ],
   "id": "68f1a732ea2365d2",
   "outputs": [
    {
     "name": "stdout",
     "output_type": "stream",
     "text": [
      "Epoch 1/100\n",
      "\u001B[1m51/51\u001B[0m \u001B[32m━━━━━━━━━━━━━━━━━━━━\u001B[0m\u001B[37m\u001B[0m \u001B[1m10s\u001B[0m 53ms/step - loss: 0.0200 - mae: 0.0744 - val_loss: 0.0089 - val_mae: 0.0441\n",
      "Epoch 2/100\n",
      "\u001B[1m51/51\u001B[0m \u001B[32m━━━━━━━━━━━━━━━━━━━━\u001B[0m\u001B[37m\u001B[0m \u001B[1m2s\u001B[0m 39ms/step - loss: 0.0071 - mae: 0.0415 - val_loss: 0.0075 - val_mae: 0.0380\n",
      "Epoch 3/100\n",
      "\u001B[1m51/51\u001B[0m \u001B[32m━━━━━━━━━━━━━━━━━━━━\u001B[0m\u001B[37m\u001B[0m \u001B[1m2s\u001B[0m 38ms/step - loss: 0.0057 - mae: 0.0348 - val_loss: 0.0050 - val_mae: 0.0334\n",
      "Epoch 4/100\n",
      "\u001B[1m51/51\u001B[0m \u001B[32m━━━━━━━━━━━━━━━━━━━━\u001B[0m\u001B[37m\u001B[0m \u001B[1m2s\u001B[0m 40ms/step - loss: 0.0036 - mae: 0.0306 - val_loss: 0.0038 - val_mae: 0.0299\n",
      "Epoch 5/100\n",
      "\u001B[1m51/51\u001B[0m \u001B[32m━━━━━━━━━━━━━━━━━━━━\u001B[0m\u001B[37m\u001B[0m \u001B[1m2s\u001B[0m 41ms/step - loss: 0.0026 - mae: 0.0266 - val_loss: 0.0047 - val_mae: 0.0323\n",
      "Epoch 6/100\n",
      "\u001B[1m51/51\u001B[0m \u001B[32m━━━━━━━━━━━━━━━━━━━━\u001B[0m\u001B[37m\u001B[0m \u001B[1m2s\u001B[0m 41ms/step - loss: 0.0023 - mae: 0.0257 - val_loss: 0.0033 - val_mae: 0.0291\n",
      "Epoch 7/100\n",
      "\u001B[1m51/51\u001B[0m \u001B[32m━━━━━━━━━━━━━━━━━━━━\u001B[0m\u001B[37m\u001B[0m \u001B[1m2s\u001B[0m 41ms/step - loss: 0.0028 - mae: 0.0263 - val_loss: 0.0029 - val_mae: 0.0236\n",
      "Epoch 8/100\n",
      "\u001B[1m51/51\u001B[0m \u001B[32m━━━━━━━━━━━━━━━━━━━━\u001B[0m\u001B[37m\u001B[0m \u001B[1m2s\u001B[0m 41ms/step - loss: 0.0018 - mae: 0.0236 - val_loss: 0.0027 - val_mae: 0.0222\n",
      "Epoch 9/100\n",
      "\u001B[1m51/51\u001B[0m \u001B[32m━━━━━━━━━━━━━━━━━━━━\u001B[0m\u001B[37m\u001B[0m \u001B[1m2s\u001B[0m 40ms/step - loss: 0.0018 - mae: 0.0211 - val_loss: 0.0030 - val_mae: 0.0258\n",
      "Epoch 10/100\n",
      "\u001B[1m51/51\u001B[0m \u001B[32m━━━━━━━━━━━━━━━━━━━━\u001B[0m\u001B[37m\u001B[0m \u001B[1m2s\u001B[0m 42ms/step - loss: 0.0016 - mae: 0.0222 - val_loss: 0.0034 - val_mae: 0.0342\n",
      "Epoch 11/100\n",
      "\u001B[1m51/51\u001B[0m \u001B[32m━━━━━━━━━━━━━━━━━━━━\u001B[0m\u001B[37m\u001B[0m \u001B[1m2s\u001B[0m 41ms/step - loss: 0.0016 - mae: 0.0230 - val_loss: 0.0028 - val_mae: 0.0237\n",
      "Epoch 12/100\n",
      "\u001B[1m51/51\u001B[0m \u001B[32m━━━━━━━━━━━━━━━━━━━━\u001B[0m\u001B[37m\u001B[0m \u001B[1m2s\u001B[0m 42ms/step - loss: 0.0016 - mae: 0.0199 - val_loss: 0.0028 - val_mae: 0.0275\n",
      "Epoch 13/100\n",
      "\u001B[1m51/51\u001B[0m \u001B[32m━━━━━━━━━━━━━━━━━━━━\u001B[0m\u001B[37m\u001B[0m \u001B[1m2s\u001B[0m 41ms/step - loss: 0.0015 - mae: 0.0202 - val_loss: 0.0027 - val_mae: 0.0248\n",
      "Epoch 14/100\n",
      "\u001B[1m51/51\u001B[0m \u001B[32m━━━━━━━━━━━━━━━━━━━━\u001B[0m\u001B[37m\u001B[0m \u001B[1m2s\u001B[0m 41ms/step - loss: 0.0011 - mae: 0.0192 - val_loss: 0.0028 - val_mae: 0.0255\n",
      "Epoch 15/100\n",
      "\u001B[1m51/51\u001B[0m \u001B[32m━━━━━━━━━━━━━━━━━━━━\u001B[0m\u001B[37m\u001B[0m \u001B[1m2s\u001B[0m 41ms/step - loss: 0.0012 - mae: 0.0189 - val_loss: 0.0031 - val_mae: 0.0263\n",
      "Epoch 16/100\n",
      "\u001B[1m51/51\u001B[0m \u001B[32m━━━━━━━━━━━━━━━━━━━━\u001B[0m\u001B[37m\u001B[0m \u001B[1m2s\u001B[0m 40ms/step - loss: 0.0010 - mae: 0.0182 - val_loss: 0.0029 - val_mae: 0.0263\n",
      "Epoch 17/100\n",
      "\u001B[1m51/51\u001B[0m \u001B[32m━━━━━━━━━━━━━━━━━━━━\u001B[0m\u001B[37m\u001B[0m \u001B[1m2s\u001B[0m 41ms/step - loss: 9.6000e-04 - mae: 0.0179 - val_loss: 0.0026 - val_mae: 0.0205\n",
      "Epoch 18/100\n",
      "\u001B[1m51/51\u001B[0m \u001B[32m━━━━━━━━━━━━━━━━━━━━\u001B[0m\u001B[37m\u001B[0m \u001B[1m2s\u001B[0m 41ms/step - loss: 0.0011 - mae: 0.0189 - val_loss: 0.0034 - val_mae: 0.0262\n",
      "Epoch 19/100\n",
      "\u001B[1m51/51\u001B[0m \u001B[32m━━━━━━━━━━━━━━━━━━━━\u001B[0m\u001B[37m\u001B[0m \u001B[1m2s\u001B[0m 40ms/step - loss: 0.0013 - mae: 0.0218 - val_loss: 0.0027 - val_mae: 0.0250\n",
      "Epoch 20/100\n",
      "\u001B[1m51/51\u001B[0m \u001B[32m━━━━━━━━━━━━━━━━━━━━\u001B[0m\u001B[37m\u001B[0m \u001B[1m2s\u001B[0m 40ms/step - loss: 6.7559e-04 - mae: 0.0155 - val_loss: 0.0026 - val_mae: 0.0268\n",
      "Epoch 21/100\n",
      "\u001B[1m51/51\u001B[0m \u001B[32m━━━━━━━━━━━━━━━━━━━━\u001B[0m\u001B[37m\u001B[0m \u001B[1m2s\u001B[0m 42ms/step - loss: 0.0010 - mae: 0.0184 - val_loss: 0.0025 - val_mae: 0.0224\n",
      "Epoch 22/100\n",
      "\u001B[1m51/51\u001B[0m \u001B[32m━━━━━━━━━━━━━━━━━━━━\u001B[0m\u001B[37m\u001B[0m \u001B[1m2s\u001B[0m 41ms/step - loss: 6.4313e-04 - mae: 0.0148 - val_loss: 0.0026 - val_mae: 0.0228\n",
      "Epoch 23/100\n",
      "\u001B[1m51/51\u001B[0m \u001B[32m━━━━━━━━━━━━━━━━━━━━\u001B[0m\u001B[37m\u001B[0m \u001B[1m2s\u001B[0m 42ms/step - loss: 7.9649e-04 - mae: 0.0157 - val_loss: 0.0026 - val_mae: 0.0244\n",
      "Epoch 24/100\n",
      "\u001B[1m51/51\u001B[0m \u001B[32m━━━━━━━━━━━━━━━━━━━━\u001B[0m\u001B[37m\u001B[0m \u001B[1m2s\u001B[0m 40ms/step - loss: 7.5246e-04 - mae: 0.0155 - val_loss: 0.0026 - val_mae: 0.0269\n",
      "Epoch 25/100\n",
      "\u001B[1m51/51\u001B[0m \u001B[32m━━━━━━━━━━━━━━━━━━━━\u001B[0m\u001B[37m\u001B[0m \u001B[1m2s\u001B[0m 41ms/step - loss: 7.7887e-04 - mae: 0.0161 - val_loss: 0.0025 - val_mae: 0.0211\n",
      "Epoch 26/100\n",
      "\u001B[1m51/51\u001B[0m \u001B[32m━━━━━━━━━━━━━━━━━━━━\u001B[0m\u001B[37m\u001B[0m \u001B[1m2s\u001B[0m 41ms/step - loss: 8.5688e-04 - mae: 0.0163 - val_loss: 0.0029 - val_mae: 0.0248\n",
      "Epoch 27/100\n",
      "\u001B[1m51/51\u001B[0m \u001B[32m━━━━━━━━━━━━━━━━━━━━\u001B[0m\u001B[37m\u001B[0m \u001B[1m2s\u001B[0m 42ms/step - loss: 7.7655e-04 - mae: 0.0164 - val_loss: 0.0030 - val_mae: 0.0257\n",
      "Epoch 28/100\n",
      "\u001B[1m51/51\u001B[0m \u001B[32m━━━━━━━━━━━━━━━━━━━━\u001B[0m\u001B[37m\u001B[0m \u001B[1m2s\u001B[0m 40ms/step - loss: 0.0011 - mae: 0.0196 - val_loss: 0.0026 - val_mae: 0.0219\n",
      "Epoch 29/100\n",
      "\u001B[1m51/51\u001B[0m \u001B[32m━━━━━━━━━━━━━━━━━━━━\u001B[0m\u001B[37m\u001B[0m \u001B[1m2s\u001B[0m 40ms/step - loss: 5.7640e-04 - mae: 0.0149 - val_loss: 0.0026 - val_mae: 0.0213\n",
      "Epoch 30/100\n",
      "\u001B[1m51/51\u001B[0m \u001B[32m━━━━━━━━━━━━━━━━━━━━\u001B[0m\u001B[37m\u001B[0m \u001B[1m2s\u001B[0m 40ms/step - loss: 6.6606e-04 - mae: 0.0147 - val_loss: 0.0026 - val_mae: 0.0211\n",
      "Epoch 31/100\n",
      "\u001B[1m51/51\u001B[0m \u001B[32m━━━━━━━━━━━━━━━━━━━━\u001B[0m\u001B[37m\u001B[0m \u001B[1m2s\u001B[0m 42ms/step - loss: 5.7170e-04 - mae: 0.0147 - val_loss: 0.0026 - val_mae: 0.0195\n"
     ]
    }
   ],
   "execution_count": 15
  },
  {
   "metadata": {
    "ExecuteTime": {
     "end_time": "2024-11-04T17:34:42.737878Z",
     "start_time": "2024-11-04T17:34:42.269758Z"
    }
   },
   "cell_type": "code",
   "source": "model.evaluate(X_test, y_test)",
   "id": "16b519fe8da18fc5",
   "outputs": [
    {
     "name": "stdout",
     "output_type": "stream",
     "text": [
      "\u001B[1m16/16\u001B[0m \u001B[32m━━━━━━━━━━━━━━━━━━━━\u001B[0m\u001B[37m\u001B[0m \u001B[1m0s\u001B[0m 18ms/step - loss: 7.2139e-04 - mae: 0.0193\n"
     ]
    },
    {
     "data": {
      "text/plain": [
       "[0.0012558765010908246, 0.021187331527471542]"
      ]
     },
     "execution_count": 17,
     "metadata": {},
     "output_type": "execute_result"
    }
   ],
   "execution_count": 17
  },
  {
   "metadata": {
    "ExecuteTime": {
     "end_time": "2024-11-04T18:04:52.060749Z",
     "start_time": "2024-11-04T18:04:52.052598Z"
    }
   },
   "cell_type": "code",
   "source": "print(f\"{np.around(y_test_original[:10].T, decimals=2)}\\n{np.around(y_pred_original[:10].T, decimals=2)}\")",
   "id": "2e2355223e916302",
   "outputs": [
    {
     "name": "stdout",
     "output_type": "stream",
     "text": [
      "[[ 75.11  34.9  289.9   30.9   59.9   56.9   61.01 784.31  85.9   41.9 ]]\n",
      "[[ 87.33  65.25 366.87  62.61  88.75  92.51  94.48 821.6  112.08  94.46]]\n"
     ]
    }
   ],
   "execution_count": 33
  },
  {
   "metadata": {
    "ExecuteTime": {
     "end_time": "2024-11-04T18:04:11.402602Z",
     "start_time": "2024-11-04T18:04:11.030664Z"
    }
   },
   "cell_type": "code",
   "source": [
    "# 5. Avaliação do Modelo\n",
    "# Previsões\n",
    "y_pred = model.predict(X_test)\n",
    "\n",
    "# Desnormalização dos resultados\n",
    "y_test_original = scaler.inverse_transform(y_test)\n",
    "y_pred_original = scaler.inverse_transform(y_pred)\n",
    "\n",
    "# Cálculo das métricas\n",
    "mse = mean_squared_error(y_test_original, y_pred_original)\n",
    "mae = mean_absolute_error(y_test_original, y_pred_original)\n",
    "rmse = np.sqrt(mse)\n",
    "\n",
    "print(f\"\\nMétricas de Avaliação:\")\n",
    "print(f\"MSE: {mse:.2f}\")\n",
    "print(f\"RMSE: {rmse:.2f}\")\n",
    "print(f\"MAE: {mae:.2f}\")"
   ],
   "id": "d630bd04017530e3",
   "outputs": [
    {
     "name": "stdout",
     "output_type": "stream",
     "text": [
      "\u001B[1m16/16\u001B[0m \u001B[32m━━━━━━━━━━━━━━━━━━━━\u001B[0m\u001B[37m\u001B[0m \u001B[1m0s\u001B[0m 11ms/step\n",
      "\n",
      "Métricas de Avaliação:\n",
      "MSE: 7648.64\n",
      "RMSE: 87.46\n",
      "MAE: 52.29\n"
     ]
    }
   ],
   "execution_count": 32
  },
  {
   "metadata": {
    "ExecuteTime": {
     "end_time": "2024-11-04T17:27:34.466405Z",
     "start_time": "2024-11-04T17:27:33.536558Z"
    }
   },
   "cell_type": "code",
   "source": [
    "# 6. Visualização dos Resultados\n",
    "# Gráfico de Loss\n",
    "sns.set(style=\"whitegrid\")\n",
    "plt.figure(figsize=(16, 6))\n",
    "\n",
    "plt.subplot(1, 2, 1)\n",
    "plt.plot(history.history['loss'], label='Training Loss')\n",
    "plt.plot(history.history['val_loss'], label='Validation Loss')\n",
    "plt.title('Model Loss Over Time')\n",
    "plt.xlabel('Epoch')\n",
    "plt.ylabel('Loss')\n",
    "\n",
    "# Gráfico de Previsões vs Valores Reais\n",
    "plt.subplot(1, 2, 2)\n",
    "plt.scatter(y_test_original, y_pred_original, alpha=0.5)\n",
    "plt.plot([y_test_original.min(), y_test_original.max()],\n",
    "         [y_test_original.min(), y_test_original.max()],\n",
    "         'r--', lw=2)\n",
    "plt.xlabel('Preços Reais')\n",
    "plt.ylabel('Preços Previstos')\n",
    "plt.title('Previsões vs Valores Reais')\n",
    "plt.grid(True)\n",
    "plt.show()"
   ],
   "id": "68697f1412e30975",
   "outputs": [
    {
     "data": {
      "text/plain": [
       "<Figure size 1600x600 with 2 Axes>"
      ],
      "image/png": "[encoded data removed]"
     },
     "metadata": {},
     "output_type": "display_data"
    }
   ],
   "execution_count": 10
  },
  {
   "metadata": {
    "ExecuteTime": {
     "end_time": "2024-11-02T11:28:01.946572Z",
     "start_time": "2024-11-02T11:28:01.704044Z"
    }
   },
   "cell_type": "code",
   "source": [
    "# 7. Função para fazer novas previsões\n",
    "def predict_price(product_description):\n",
    "    # Limpar e processar o texto\n",
    "    cleaned_text = clean_text(product_description)\n",
    "    # Tokenizar\n",
    "    sequence = tokenizer.texts_to_sequences([cleaned_text])\n",
    "    # Padding\n",
    "    padded = pad_sequences(sequence, maxlen=20)\n",
    "    # Fazer previsão\n",
    "    prediction = model.predict(padded)\n",
    "    # Desnormalizar\n",
    "    final_price = scaler.inverse_transform(prediction)[0][0]\n",
    "    return final_price\n",
    "\n",
    "# Exemplo de uso\n",
    "novo_produto = \"porcelanato calacatta gold 80 x 80 polido retificado tipo a elizabeth\"\n",
    "preco_previsto = predict_price(novo_produto)\n",
    "print(f\"\\nPrevisão de preço para novo produto:\")\n",
    "print(f\"Produto: {novo_produto}\")\n",
    "print(f\"Preço previsto: R$ {preco_previsto:.2f}\")"
   ],
   "id": "89ef1fcaad5d31ca",
   "outputs": [
    {
     "name": "stdout",
     "output_type": "stream",
     "text": [
      "\u001B[1m1/1\u001B[0m \u001B[32m━━━━━━━━━━━━━━━━━━━━\u001B[0m\u001B[37m\u001B[0m \u001B[1m0s\u001B[0m 93ms/step\n",
      "\n",
      "Previsão de preço para novo produto:\n",
      "Produto: porcelanato calacatta gold 80 x 80 polido retificado tipo a elizabeth\n",
      "Preço previsto: R$ 123.92\n"
     ]
    }
   ],
   "execution_count": 30
  },
  {
   "metadata": {
    "ExecuteTime": {
     "end_time": "2024-11-02T11:24:49.492280Z",
     "start_time": "2024-11-02T11:24:49.466257Z"
    }
   },
   "cell_type": "code",
   "source": "df[df.name.str.contains(\"calacatta\")]",
   "id": "a1f42c316c319a98",
   "outputs": [
    {
     "data": {
      "text/plain": [
       "         id                                               name  price\n",
       "0  999348.0  porcelanato calacatta gold 100 x 100 acetinado...  117.9\n",
       "8  999350.0  porcelanato calacatta gold 100 x 100 polido re...  139.9"
      ],
      "text/html": [
       "<div>\n",
       "<style scoped>\n",
       "    .dataframe tbody tr th:only-of-type {\n",
       "        vertical-align: middle;\n",
       "    }\n",
       "\n",
       "    .dataframe tbody tr th {\n",
       "        vertical-align: top;\n",
       "    }\n",
       "\n",
       "    .dataframe thead th {\n",
       "        text-align: right;\n",
       "    }\n",
       "</style>\n",
       "<table border=\"1\" class=\"dataframe\">\n",
       "  <thead>\n",
       "    <tr style=\"text-align: right;\">\n",
       "      <th></th>\n",
       "      <th>id</th>\n",
       "      <th>name</th>\n",
       "      <th>price</th>\n",
       "    </tr>\n",
       "  </thead>\n",
       "  <tbody>\n",
       "    <tr>\n",
       "      <th>0</th>\n",
       "      <td>999348.0</td>\n",
       "      <td>porcelanato calacatta gold 100 x 100 acetinado...</td>\n",
       "      <td>117.9</td>\n",
       "    </tr>\n",
       "    <tr>\n",
       "      <th>8</th>\n",
       "      <td>999350.0</td>\n",
       "      <td>porcelanato calacatta gold 100 x 100 polido re...</td>\n",
       "      <td>139.9</td>\n",
       "    </tr>\n",
       "  </tbody>\n",
       "</table>\n",
       "</div>"
      ]
     },
     "execution_count": 26,
     "metadata": {},
     "output_type": "execute_result"
    }
   ],
   "execution_count": 26
  }
 ],
 "metadata": {
  "kernelspec": {
   "display_name": "Python 3",
   "language": "python",
   "name": "python3"
  },
  "language_info": {
   "codemirror_mode": {
    "name": "ipython",
    "version": 2
   },
   "file_extension": ".py",
   "mimetype": "text/x-python",
   "name": "python",
   "nbconvert_exporter": "python",
   "pygments_lexer": "ipython2",
   "version": "2.7.6"
  }
 },
 "nbformat": 4,
 "nbformat_minor": 5
}
