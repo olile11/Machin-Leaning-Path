{
 "cells": [
  {
   "metadata": {},
   "cell_type": "markdown",
   "source": "## Notebook contém código para extrair e combinar df de diferentes arquivos",
   "id": "61bab60105dee9fd"
  },
  {
   "metadata": {
    "ExecuteTime": {
     "end_time": "2024-12-17T11:20:04.149030Z",
     "start_time": "2024-12-17T11:20:03.878337Z"
    }
   },
   "cell_type": "code",
   "source": [
    "import pandas as pd\n",
    "import numpy as np\n",
    "import os"
   ],
   "id": "3383b336e8bc6a6a",
   "outputs": [],
   "execution_count": 1
  },
  {
   "metadata": {
    "ExecuteTime": {
     "end_time": "2024-12-17T13:09:54.954584Z",
     "start_time": "2024-12-17T13:09:54.943490Z"
    }
   },
   "cell_type": "code",
   "source": [
    "def load_data(name):\n",
    "    try:\n",
    "        tmp = pd.read_csv(name)\n",
    "        tmp.rename(columns={'Name': 'name',\n",
    "                               'Price': 'price',\n",
    "                               'Brand': 'brand',\n",
    "                               'Category': 'category'}, inplace=True)\n",
    "        tmp = tmp[['name', 'price', 'category', 'brand']]\n",
    "        tmp.dropna(inplace=True)\n",
    "    except:\n",
    "        print(\"Erro ao processar operações!\")\n",
    "    return tmp"
   ],
   "id": "ec631bb2605fbd27",
   "outputs": [],
   "execution_count": 149
  },
  {
   "metadata": {
    "ExecuteTime": {
     "end_time": "2024-12-17T13:12:42.872186Z",
     "start_time": "2024-12-17T13:12:42.388847Z"
    }
   },
   "cell_type": "code",
   "source": [
    "files = [\"df_nondim.csv\", \"df.csv\", \"tupan_0x0.csv\",\n",
    "         \"tupan_0x1.csv\", \"tupan_0x2.csv\", \"tupan_0x3.csv\"]\n",
    "df = pd.DataFrame(columns=['name', 'price', 'category', 'brand'])\n",
    "for file in files:\n",
    "    df = pd.concat([df, load_data(file)],\n",
    "                   ignore_index=True)\n",
    "\n",
    "df.shape"
   ],
   "id": "b07fc4ae15ba68fc",
   "outputs": [
    {
     "name": "stderr",
     "output_type": "stream",
     "text": [
      "/tmp/ipykernel_10425/991383757.py:5: FutureWarning: The behavior of DataFrame concatenation with empty or all-NA entries is deprecated. In a future version, this will no longer exclude empty or all-NA columns when determining the result dtypes. To retain the old behavior, exclude the relevant entries before the concat operation.\n",
      "  df = pd.concat([df, load_data(file)],\n"
     ]
    },
    {
     "data": {
      "text/plain": [
       "(60191, 4)"
      ]
     },
     "execution_count": 152,
     "metadata": {},
     "output_type": "execute_result"
    }
   ],
   "execution_count": 152
  },
  {
   "metadata": {
    "ExecuteTime": {
     "end_time": "2024-12-17T18:44:55.083120Z",
     "start_time": "2024-12-17T18:44:55.050513Z"
    }
   },
   "cell_type": "code",
   "source": "df.drop_duplicates(subset=[\"name\", 'category'], inplace=True)",
   "id": "f4ecd8166b22e92f",
   "outputs": [],
   "execution_count": 158
  },
  {
   "metadata": {
    "ExecuteTime": {
     "end_time": "2024-12-17T18:44:58.208507Z",
     "start_time": "2024-12-17T18:44:58.195742Z"
    }
   },
   "cell_type": "code",
   "source": "df.shape",
   "id": "31c5ff0c24836a9c",
   "outputs": [
    {
     "data": {
      "text/plain": [
       "(13060, 4)"
      ]
     },
     "execution_count": 159,
     "metadata": {},
     "output_type": "execute_result"
    }
   ],
   "execution_count": 159
  }
 ],
 "metadata": {
  "kernelspec": {
   "display_name": "Python 3 (ipykernel)",
   "language": "python",
   "name": "python3"
  },
  "language_info": {
   "codemirror_mode": {
    "name": "ipython",
    "version": 3
   },
   "file_extension": ".py",
   "mimetype": "text/x-python",
   "name": "python",
   "nbconvert_exporter": "python",
   "pygments_lexer": "ipython3",
   "version": "3.12.3"
  }
 },
 "nbformat": 4,
 "nbformat_minor": 5
}
